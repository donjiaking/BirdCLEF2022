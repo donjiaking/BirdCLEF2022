{
 "cells": [
  {
   "cell_type": "markdown",
   "id": "2704d72b",
   "metadata": {
    "papermill": {
     "duration": 0.019784,
     "end_time": "2022-03-26T20:41:29.861646",
     "exception": false,
     "start_time": "2022-03-26T20:41:29.841862",
     "status": "completed"
    },
    "tags": []
   },
   "source": [
    "# PyTorch-Simple-Starter-Using only 21 classes"
   ]
  },
  {
   "cell_type": "markdown",
   "id": "f4b4d8b2",
   "metadata": {
    "papermill": {
     "duration": 0.018373,
     "end_time": "2022-03-26T20:41:29.899060",
     "exception": false,
     "start_time": "2022-03-26T20:41:29.880687",
     "status": "completed"
    },
    "tags": []
   },
   "source": [
    "#### Code copied with minimal changes from this Notebook:\n",
    "https://www.kaggle.com/code/myso1987/birdclef2022-pytorch-resnet34-starter-lb-0-50"
   ]
  },
  {
   "cell_type": "markdown",
   "id": "a8ce357c",
   "metadata": {
    "papermill": {
     "duration": 0.018967,
     "end_time": "2022-03-26T20:41:29.936894",
     "exception": false,
     "start_time": "2022-03-26T20:41:29.917927",
     "status": "completed"
    },
    "tags": []
   },
   "source": [
    "## Library"
   ]
  },
  {
   "cell_type": "code",
   "execution_count": 1,
   "id": "778b925c",
   "metadata": {
    "_cell_guid": "b1076dfc-b9ad-4769-8c92-a6c4dae69d19",
    "_uuid": "8f2839f25d086af736a60e9eeb907d3b93b6e0e5",
    "papermill": {
     "duration": 1.857479,
     "end_time": "2022-03-26T20:41:31.813119",
     "exception": false,
     "start_time": "2022-03-26T20:41:29.955640",
     "status": "completed"
    },
    "tags": []
   },
   "outputs": [],
   "source": [
    "import os\n",
    "import json\n",
    "import tqdm\n",
    "import random\n",
    "import shutil\n",
    "import pandas as pd\n",
    "import numpy as np\n",
    "import torch\n",
    "import torch.optim as optim\n",
    "import torch.nn as nn\n",
    "from torch.utils.data import DataLoader\n",
    "import torchaudio\n",
    "import torchaudio.transforms as T\n",
    "from torchvision.models.resnet import ResNet, BasicBlock\n",
    "\n",
    "import matplotlib.pyplot as plt"
   ]
  },
  {
   "cell_type": "code",
   "execution_count": 2,
   "id": "c09a2de3",
   "metadata": {
    "papermill": {
     "duration": 0.073375,
     "end_time": "2022-03-26T20:41:31.906436",
     "exception": false,
     "start_time": "2022-03-26T20:41:31.833061",
     "status": "completed"
    },
    "tags": []
   },
   "outputs": [
    {
     "name": "stdout",
     "output_type": "stream",
     "text": [
      "Using cpu device\n"
     ]
    }
   ],
   "source": [
    "device = \"cuda\" if torch.cuda.is_available() else \"cpu\"\n",
    "print(f\"Using {device} device\")"
   ]
  },
  {
   "cell_type": "code",
   "execution_count": 3,
   "id": "1ccedf4d",
   "metadata": {},
   "outputs": [
    {
     "data": {
      "text/plain": [
       "False"
      ]
     },
     "execution_count": 3,
     "metadata": {},
     "output_type": "execute_result"
    }
   ],
   "source": [
    "os.path.exists(\"working/train/label_list.pt\")"
   ]
  },
  {
   "cell_type": "markdown",
   "id": "de5c138a",
   "metadata": {
    "papermill": {
     "duration": 0.019127,
     "end_time": "2022-03-26T20:41:31.945259",
     "exception": false,
     "start_time": "2022-03-26T20:41:31.926132",
     "status": "completed"
    },
    "tags": []
   },
   "source": [
    "## Data Loading"
   ]
  },
  {
   "cell_type": "code",
   "execution_count": 4,
   "id": "b07f94e1",
   "metadata": {
    "papermill": {
     "duration": 0.129418,
     "end_time": "2022-03-26T20:41:32.093624",
     "exception": false,
     "start_time": "2022-03-26T20:41:31.964206",
     "status": "completed"
    },
    "tags": []
   },
   "outputs": [],
   "source": [
    "root_path = \"../input/birdclef-2022/\"\n",
    "input_path = root_path + '/train_audio/'\n",
    "out_path = \"./train/\"\n",
    "\n",
    "try:\n",
    "    os.mkdir(out_path)\n",
    "except FileExistsError:\n",
    "    pass\n",
    "\n",
    "\n",
    "train_meta = pd.read_csv(root_path + 'train_metadata.csv')\n",
    "\n",
    "with open(root_path + '/scored_birds.json') as sbfile:\n",
    "    scored_birds = json.load(sbfile)"
   ]
  },
  {
   "cell_type": "markdown",
   "id": "ee969696",
   "metadata": {
    "papermill": {
     "duration": 0.019593,
     "end_time": "2022-03-26T20:41:32.132788",
     "exception": false,
     "start_time": "2022-03-26T20:41:32.113195",
     "status": "completed"
    },
    "tags": []
   },
   "source": [
    "### only 21 classes"
   ]
  },
  {
   "cell_type": "code",
   "execution_count": 5,
   "id": "1a33d7c8",
   "metadata": {
    "papermill": {
     "duration": 0.041912,
     "end_time": "2022-03-26T20:41:32.194622",
     "exception": false,
     "start_time": "2022-03-26T20:41:32.152710",
     "status": "completed"
    },
    "tags": []
   },
   "outputs": [
    {
     "name": "stdout",
     "output_type": "stream",
     "text": [
      "['akiapo' 'aniani' 'apapan' 'barpet' 'crehon' 'elepai' 'ercfra' 'hawama'\n",
      " 'hawcre' 'hawgoo' 'hawhaw' 'hawpet1' 'houfin' 'iiwi' 'jabwar' 'maupar'\n",
      " 'omao' 'puaioh' 'skylar' 'warwhe1' 'yefcan']\n"
     ]
    }
   ],
   "source": [
    "train_meta = train_meta[train_meta['primary_label'].isin(scored_birds)]\n",
    "bird_label = train_meta[\"primary_label\"].unique()\n",
    "print(bird_label)"
   ]
  },
  {
   "cell_type": "markdown",
   "id": "0d96caef",
   "metadata": {
    "papermill": {
     "duration": 0.019233,
     "end_time": "2022-03-26T20:41:32.234281",
     "exception": false,
     "start_time": "2022-03-26T20:41:32.215048",
     "status": "completed"
    },
    "tags": []
   },
   "source": [
    "## Utils"
   ]
  },
  {
   "cell_type": "code",
   "execution_count": 6,
   "id": "ccf8409e",
   "metadata": {
    "papermill": {
     "duration": 0.151753,
     "end_time": "2022-03-26T20:41:32.405198",
     "exception": false,
     "start_time": "2022-03-26T20:41:32.253445",
     "status": "completed"
    },
    "tags": []
   },
   "outputs": [],
   "source": [
    "sample_rate = 32000\n",
    "n_fft = 4096\n",
    "win_length = None\n",
    "hop_length = 512\n",
    "n_mels = 256\n",
    "min_sec_proc = sample_rate*5\n",
    "f_min = 250\n",
    "\n",
    "mel_spectrogram = T.MelSpectrogram(\n",
    "    sample_rate=sample_rate,\n",
    "    n_fft=n_fft,\n",
    "    win_length=win_length,\n",
    "    hop_length=hop_length,\n",
    "    center=True,\n",
    "    f_min=f_min,\n",
    "    pad_mode=\"reflect\",\n",
    "    power=2.0,\n",
    "    norm='slaney',\n",
    "    onesided=True,\n",
    "    n_mels=n_mels,\n",
    "    mel_scale=\"htk\",\n",
    ")"
   ]
  },
  {
   "cell_type": "code",
   "execution_count": 7,
   "id": "dfd002c4",
   "metadata": {
    "papermill": {
     "duration": 0.067513,
     "end_time": "2022-03-26T20:41:32.513460",
     "exception": false,
     "start_time": "2022-03-26T20:41:32.445947",
     "status": "completed"
    },
    "tags": []
   },
   "outputs": [],
   "source": [
    "def torch_fix_seed(seed=42):\n",
    "    # Python random\n",
    "    random.seed(seed)\n",
    "    # Numpy\n",
    "    np.random.seed(seed)\n",
    "    # Pytorch\n",
    "    torch.manual_seed(seed)\n",
    "    torch.cuda.manual_seed(seed)\n",
    "    torch.backends.cudnn.deterministic = True\n",
    "    torch.use_deterministic_algorithms = True\n",
    "    \n",
    "    \n",
    "def normalize_std(spec):\n",
    "    return (spec- torch.mean(spec))/torch.std(spec)\n",
    "    \n",
    "    \n",
    "def audio_to_mel_label(filepath, min_sec_proc, mode='train', data_index=0, label_list=[], bird_label=[], label_file=[], mel_list=[]):\n",
    "    if mode == 'train':\n",
    "        label_file_all = np.zeros(bird_label.shape)\n",
    "        for label_file_temp in label_file:\n",
    "            label_file_all += (label_file_temp == bird_label)\n",
    "        label_file_all = np.clip(label_file_all, 0, 1)\n",
    "    \n",
    "    waveform, _ = torchaudio.load(filepath=filepath)\n",
    "    len_wav = waveform.shape[1]\n",
    "    waveform = waveform[0,:].reshape(1, len_wav) # stereo->mono mono->mono\n",
    "    \n",
    "    if mode == 'train':\n",
    "        if len_wav < min_sec_proc:\n",
    "            for _ in range(round(min_sec_proc/len_wav)):\n",
    "                waveform = torch.cat((waveform,waveform[:,0:len_wav]),1)\n",
    "            len_wav = min_sec_proc\n",
    "            waveform = waveform[:,0:len_wav]\n",
    "            \n",
    "    elif mode == 'test':\n",
    "        if not len_wav < min_sec_proc*12:\n",
    "            waveform = torch.cat((waveform,waveform[:,0:len_wav]),1)\n",
    "            len_wav = min_sec_proc*12\n",
    "            waveform = waveform[:,0:len_wav]\n",
    "\n",
    "    for index in range(int(len_wav/min_sec_proc)):\n",
    "        log_melspec = torch.log10(mel_spectrogram(waveform[0, index*min_sec_proc:index*min_sec_proc+min_sec_proc]).unsqueeze(0)+1e-10)\n",
    "        log_melspec = normalize_std(log_melspec)\n",
    "        \n",
    "        if mode == 'train':\n",
    "            torch.save(log_melspec, out_path + str(data_index) + '.pt')\n",
    "            label_list.append(label_file_all)\n",
    "            data_index += 1\n",
    "        elif mode == 'test':\n",
    "            mel_list.append(log_melspec)\n",
    "            \n",
    "    if mode == 'train':\n",
    "        return data_index\n",
    "    elif mode == 'test':\n",
    "        return mel_list\n",
    "    \n",
    "\n",
    "def load_tensor(path, file_name):\n",
    "    return torch.load(path + str(file_name) + '.pt')\n",
    "\n",
    "\n",
    "def get_X_y(path, idx, label_list):\n",
    "    batch_X = torch.stack([load_tensor(path, x.item()) for x in idx])\n",
    "    batch_y = torch.stack([label_list[x.item()] for x in idx])\n",
    "    return batch_X, batch_y\n",
    "\n",
    "        \n",
    "def plor_history(history):\n",
    "    plt.figure(figsize=(10, 10)) \n",
    "    plt.plot(history[:,0], history[:,1], label='loss')\n",
    "    plt.plot(history[:,0], history[:,2], label='val_loss')\n",
    "    plt.xlabel('epoch')\n",
    "    plt.ylabel('loss')\n",
    "    plt.legend()\n",
    "    \n",
    "    \n",
    "torch_fix_seed()"
   ]
  },
  {
   "cell_type": "markdown",
   "id": "3c7e6d4d",
   "metadata": {
    "papermill": {
     "duration": 0.031432,
     "end_time": "2022-03-26T20:41:32.576612",
     "exception": false,
     "start_time": "2022-03-26T20:41:32.545180",
     "status": "completed"
    },
    "tags": []
   },
   "source": [
    "## Save melspectrogram"
   ]
  },
  {
   "cell_type": "code",
   "execution_count": 8,
   "id": "1a8f0041",
   "metadata": {
    "papermill": {
     "duration": 245.930234,
     "end_time": "2022-03-26T20:45:38.538394",
     "exception": false,
     "start_time": "2022-03-26T20:41:32.608160",
     "status": "completed"
    },
    "tags": []
   },
   "outputs": [
    {
     "data": {
      "application/vnd.jupyter.widget-view+json": {
       "model_id": "7ee5a0ec8218487e9dac14599b4d2a86",
       "version_major": 2,
       "version_minor": 0
      },
      "text/plain": [
       "  0%|          | 0/1266 [00:00<?, ?it/s]"
      ]
     },
     "metadata": {},
     "output_type": "display_data"
    }
   ],
   "source": [
    "data_index = 0\n",
    "label_list = []\n",
    "for pri_label, secon_label, f_name in zip(tqdm.notebook.tqdm(train_meta['primary_label']), train_meta['secondary_labels'],train_meta['filename']):\n",
    "    data_index = audio_to_mel_label(input_path+f_name, min_sec_proc,'train', data_index, label_list, bird_label, [pri_label] + eval(secon_label))\n",
    "\n",
    "torch.save(np.stack(label_list), out_path + 'label_list.pt')\n",
    "label_list = torch.from_numpy(np.stack(label_list)).clone()"
   ]
  },
  {
   "cell_type": "markdown",
   "id": "1fcc7257",
   "metadata": {
    "papermill": {
     "duration": 0.020526,
     "end_time": "2022-03-26T20:45:38.579631",
     "exception": false,
     "start_time": "2022-03-26T20:45:38.559105",
     "status": "completed"
    },
    "tags": []
   },
   "source": [
    "## Model"
   ]
  },
  {
   "cell_type": "code",
   "execution_count": 9,
   "id": "a6be38a3",
   "metadata": {
    "execution": {
     "iopub.execute_input": "2022-03-26T20:45:38.628990Z",
     "iopub.status.busy": "2022-03-26T20:45:38.623525Z",
     "iopub.status.idle": "2022-03-26T20:45:41.700621Z",
     "shell.execute_reply": "2022-03-26T20:45:41.700089Z",
     "shell.execute_reply.started": "2022-03-24T13:20:46.898025Z"
    },
    "papermill": {
     "duration": 3.100288,
     "end_time": "2022-03-26T20:45:41.700765",
     "exception": false,
     "start_time": "2022-03-26T20:45:38.600477",
     "status": "completed"
    },
    "tags": []
   },
   "outputs": [],
   "source": [
    "n_output = len(bird_label)\n",
    "\n",
    "out_sigmoid = nn.Sigmoid()\n",
    "\n",
    "class ResNetBird(ResNet):\n",
    "    def __init__(self):\n",
    "        super().__init__(BasicBlock, [3, 4, 6, 3], num_classes=n_output)\n",
    "\n",
    "        self.conv1 = nn.Conv2d(1, 64, kernel_size=7, stride=1, padding=3, bias=False)\n",
    "\n",
    "        \n",
    "net = ResNetBird().to(device)"
   ]
  },
  {
   "cell_type": "markdown",
   "id": "5ea27e1a",
   "metadata": {
    "papermill": {
     "duration": 0.022418,
     "end_time": "2022-03-26T20:45:41.744265",
     "exception": false,
     "start_time": "2022-03-26T20:45:41.721847",
     "status": "completed"
    },
    "tags": []
   },
   "source": [
    "## Data split"
   ]
  },
  {
   "cell_type": "code",
   "execution_count": 10,
   "id": "b7d08b3f",
   "metadata": {
    "execution": {
     "iopub.execute_input": "2022-03-26T20:45:42.065129Z",
     "iopub.status.busy": "2022-03-26T20:45:42.064309Z",
     "iopub.status.idle": "2022-03-26T20:45:42.068485Z",
     "shell.execute_reply": "2022-03-26T20:45:42.068869Z",
     "shell.execute_reply.started": "2022-03-24T13:20:46.899723Z"
    },
    "papermill": {
     "duration": 0.03009,
     "end_time": "2022-03-26T20:45:42.069002",
     "exception": false,
     "start_time": "2022-03-26T20:45:42.038912",
     "status": "completed"
    },
    "tags": []
   },
   "outputs": [],
   "source": [
    "train_idx = np.arange(0, label_list.shape[0])\n",
    "\n",
    "data_len = train_idx.shape[0]\n",
    "train_idx, val_idx = torch.utils.data.random_split(train_idx, [int(data_len*0.8), data_len-int(data_len*0.8)])"
   ]
  },
  {
   "cell_type": "markdown",
   "id": "bfc3d644",
   "metadata": {
    "papermill": {
     "duration": 0.019611,
     "end_time": "2022-03-26T20:45:42.108509",
     "exception": false,
     "start_time": "2022-03-26T20:45:42.088898",
     "status": "completed"
    },
    "tags": []
   },
   "source": [
    "## Train loop"
   ]
  },
  {
   "cell_type": "code",
   "execution_count": null,
   "id": "6ab3e2fe",
   "metadata": {
    "execution": {
     "iopub.execute_input": "2022-03-26T20:45:42.161711Z",
     "iopub.status.busy": "2022-03-26T20:45:42.156116Z",
     "iopub.status.idle": "2022-03-27T01:33:31.841019Z",
     "shell.execute_reply": "2022-03-27T01:33:31.841463Z",
     "shell.execute_reply.started": "2022-03-24T13:20:46.901763Z"
    },
    "papermill": {
     "duration": 17269.713076,
     "end_time": "2022-03-27T01:33:31.841633",
     "exception": false,
     "start_time": "2022-03-26T20:45:42.128557",
     "status": "completed"
    },
    "tags": []
   },
   "outputs": [],
   "source": [
    "num_epochs = 50\n",
    "lr = 0.001\n",
    "batch_size = 32\n",
    "\n",
    "criterion = nn.BCEWithLogitsLoss()\n",
    "optimizer = optim.Adam(net.parameters(), lr=lr)\n",
    "history = np.zeros((0, 3))\n",
    "\n",
    "train_loader = DataLoader(train_idx, batch_size=batch_size, shuffle=True)\n",
    "val_loader = DataLoader(val_idx, batch_size=batch_size, shuffle=False)\n",
    "\n",
    "\n",
    "for epoch in range(num_epochs):\n",
    "    train_loss, val_loss = 0, 0\n",
    "    n_train, n_val = 0, 0\n",
    "\n",
    "    net.train()\n",
    "    for idx in train_loader:\n",
    "        inputs, labels = get_X_y(out_path, idx, label_list)\n",
    "        \n",
    "        n_train += len(labels)\n",
    "        \n",
    "        inputs = inputs.to(device)\n",
    "        labels = labels.to(device)\n",
    "\n",
    "        optimizer.zero_grad()\n",
    "        outputs = net(inputs)\n",
    "        loss = criterion(outputs, labels)\n",
    "        loss.backward()\n",
    "        optimizer.step()\n",
    "        train_loss += loss.item()\n",
    "\n",
    "    net.eval()\n",
    "    with torch.no_grad():\n",
    "        for idx in val_loader:\n",
    "            inputs_val, labels_val = get_X_y(out_path, idx, label_list)\n",
    "            n_val += len(labels)\n",
    "\n",
    "            inputs_val = inputs_val.to(device)\n",
    "            labels_val = labels_val.to(device)\n",
    "\n",
    "            outputs_val = net(inputs_val)\n",
    "\n",
    "            loss_val = criterion(outputs_val, labels_val)\n",
    "\n",
    "            val_loss += loss_val.item()\n",
    "    \n",
    "\n",
    "    train_loss = train_loss * batch_size / n_train\n",
    "    val_loss = val_loss * batch_size / n_val\n",
    "    print (f'Epoch [{(epoch+1)}/{num_epochs}], loss: {train_loss:.5f}, val_loss: {val_loss:.5f}')\n",
    "    item = np.array([epoch+1, train_loss, val_loss])\n",
    "    history = np.vstack((history, item))\n",
    "\n",
    "torch.save(net.state_dict(), 'model.pt')\n",
    "plor_history(history)"
   ]
  },
  {
   "cell_type": "markdown",
   "id": "30bb224f",
   "metadata": {
    "papermill": {
     "duration": 0.035977,
     "end_time": "2022-03-27T01:33:31.914140",
     "exception": false,
     "start_time": "2022-03-27T01:33:31.878163",
     "status": "completed"
    },
    "tags": []
   },
   "source": [
    "## Inference"
   ]
  },
  {
   "cell_type": "code",
   "execution_count": 11,
   "id": "267c6249",
   "metadata": {
    "execution": {
     "iopub.execute_input": "2022-03-27T01:33:31.993683Z",
     "iopub.status.busy": "2022-03-27T01:33:31.993016Z",
     "iopub.status.idle": "2022-03-27T01:33:32.007184Z",
     "shell.execute_reply": "2022-03-27T01:33:32.007597Z",
     "shell.execute_reply.started": "2022-03-24T13:20:46.903497Z"
    },
    "papermill": {
     "duration": 0.05731,
     "end_time": "2022-03-27T01:33:32.007740",
     "exception": false,
     "start_time": "2022-03-27T01:33:31.950430",
     "status": "completed"
    },
    "tags": []
   },
   "outputs": [
    {
     "name": "stdout",
     "output_type": "stream",
     "text": [
      "Number of test soundscapes: 1\n"
     ]
    }
   ],
   "source": [
    "test_audio_dir = '../input/birdclef-2022/test_soundscapes/'\n",
    "file_list = [f.split('.')[0] for f in sorted(os.listdir(test_audio_dir))]\n",
    "\n",
    "print('Number of test soundscapes:', len(file_list))"
   ]
  },
  {
   "cell_type": "code",
   "execution_count": 12,
   "id": "572a44ff",
   "metadata": {
    "execution": {
     "iopub.execute_input": "2022-03-27T01:33:32.092841Z",
     "iopub.status.busy": "2022-03-27T01:33:32.092234Z",
     "iopub.status.idle": "2022-03-27T01:33:32.417358Z",
     "shell.execute_reply": "2022-03-27T01:33:32.416878Z",
     "shell.execute_reply.started": "2022-03-24T13:20:46.905307Z"
    },
    "papermill": {
     "duration": 0.372049,
     "end_time": "2022-03-27T01:33:32.417510",
     "exception": false,
     "start_time": "2022-03-27T01:33:32.045461",
     "status": "completed"
    },
    "tags": []
   },
   "outputs": [],
   "source": [
    "pred = {'row_id': [], 'target': []}\n",
    "binary_th = 0.30\n",
    "net.eval()\n",
    "\n",
    "for afile in file_list:\n",
    "    \n",
    "    path = test_audio_dir + afile + '.ogg'\n",
    "    \n",
    "    chunks = [[] for i in range(12)]\n",
    "    \n",
    "    mel_list_test = []\n",
    "    mel_list_test = audio_to_mel_label(path, min_sec_proc,'test', mel_list=mel_list_test)\n",
    "    mel_list_test = torch.stack(mel_list_test).to(device)\n",
    "    \n",
    "    outputs = net(mel_list_test)\n",
    "    \n",
    "    outputs_test = out_sigmoid(outputs)\n",
    "    \n",
    "    for idx, i in enumerate(range(len(chunks))):        \n",
    "        chunk_end_time = (i + 1) * 5\n",
    "        for bird in scored_birds:\n",
    "            \n",
    "            try:\n",
    "                score = outputs_test[idx][np.where(bird_label==bird)]\n",
    "            except IndexError:\n",
    "                score = 0\n",
    "            \n",
    "            row_id = afile + '_' + bird + '_' + str(chunk_end_time)\n",
    "            \n",
    "            pred['row_id'].append(row_id)\n",
    "            pred['target'].append(True if score > binary_th else False)"
   ]
  },
  {
   "cell_type": "markdown",
   "id": "0cc425ea",
   "metadata": {
    "papermill": {
     "duration": 0.037132,
     "end_time": "2022-03-27T01:33:32.491818",
     "exception": false,
     "start_time": "2022-03-27T01:33:32.454686",
     "status": "completed"
    },
    "tags": []
   },
   "source": [
    "## Submission"
   ]
  },
  {
   "cell_type": "code",
   "execution_count": 13,
   "id": "4c3550ae",
   "metadata": {
    "execution": {
     "iopub.execute_input": "2022-03-27T01:33:32.574360Z",
     "iopub.status.busy": "2022-03-27T01:33:32.573730Z",
     "iopub.status.idle": "2022-03-27T01:33:32.581125Z",
     "shell.execute_reply": "2022-03-27T01:33:32.580735Z",
     "shell.execute_reply.started": "2022-03-24T13:20:46.907146Z"
    },
    "papermill": {
     "duration": 0.052028,
     "end_time": "2022-03-27T01:33:32.581231",
     "exception": false,
     "start_time": "2022-03-27T01:33:32.529203",
     "status": "completed"
    },
    "tags": []
   },
   "outputs": [
    {
     "name": "stdout",
     "output_type": "stream",
     "text": [
      "0      False\n",
      "1      False\n",
      "2      False\n",
      "3      False\n",
      "4      False\n",
      "       ...  \n",
      "247    False\n",
      "248    False\n",
      "249    False\n",
      "250    False\n",
      "251    False\n",
      "Name: target, Length: 252, dtype: bool\n"
     ]
    }
   ],
   "source": [
    "results = pd.DataFrame(pred, columns = ['row_id', 'target'])\n",
    "\n",
    "print(results['target']) \n",
    "    \n",
    "results.to_csv(\"submission.csv\", index=False)    "
   ]
  },
  {
   "cell_type": "code",
   "execution_count": 14,
   "id": "29d90f62",
   "metadata": {
    "execution": {
     "iopub.execute_input": "2022-03-27T01:33:32.659610Z",
     "iopub.status.busy": "2022-03-27T01:33:32.658872Z",
     "iopub.status.idle": "2022-03-27T01:33:33.573192Z",
     "shell.execute_reply": "2022-03-27T01:33:33.572056Z",
     "shell.execute_reply.started": "2022-03-24T13:20:46.908919Z"
    },
    "papermill": {
     "duration": 0.954944,
     "end_time": "2022-03-27T01:33:33.573385",
     "exception": false,
     "start_time": "2022-03-27T01:33:32.618441",
     "status": "completed"
    },
    "tags": []
   },
   "outputs": [],
   "source": [
    "OUTPUT_DATA_DELETE = True\n",
    "\n",
    "if OUTPUT_DATA_DELETE == True:\n",
    "    shutil.rmtree(out_path)\n",
    "    os.remove('model.pt')"
   ]
  },
  {
   "cell_type": "markdown",
   "id": "b31220d5",
   "metadata": {
    "papermill": {
     "duration": 0.037274,
     "end_time": "2022-03-27T01:33:33.651828",
     "exception": false,
     "start_time": "2022-03-27T01:33:33.614554",
     "status": "completed"
    },
    "tags": []
   },
   "source": [
    "## References\n",
    "[BirdCLEF2022:PyTorch-ResNet34-Starter](https://www.kaggle.com/code/myso1987/birdclef2022-pytorch-resnet34-starter-lb-0-50)\n",
    "\n",
    "[How to submit to BirdCLEF 2022](https://www.kaggle.com/stefankahl/how-to-submit-to-birdclef-2022)"
   ]
  }
 ],
 "metadata": {
  "kernelspec": {
   "display_name": "Python 3 (ipykernel)",
   "language": "python",
   "name": "python3"
  },
  "language_info": {
   "codemirror_mode": {
    "name": "ipython",
    "version": 3
   },
   "file_extension": ".py",
   "mimetype": "text/x-python",
   "name": "python",
   "nbconvert_exporter": "python",
   "pygments_lexer": "ipython3",
   "version": "3.9.6"
  },
  "papermill": {
   "default_parameters": {},
   "duration": 17533.741442,
   "end_time": "2022-03-27T01:33:35.230211",
   "environment_variables": {},
   "exception": null,
   "input_path": "__notebook__.ipynb",
   "output_path": "__notebook__.ipynb",
   "parameters": {},
   "start_time": "2022-03-26T20:41:21.488769",
   "version": "2.3.3"
  },
  "widgets": {
   "application/vnd.jupyter.widget-state+json": {
    "state": {
     "035cfc7d6fe94bc4a95450deedf18540": {
      "model_module": "@jupyter-widgets/base",
      "model_module_version": "1.2.0",
      "model_name": "LayoutModel",
      "state": {
       "_model_module": "@jupyter-widgets/base",
       "_model_module_version": "1.2.0",
       "_model_name": "LayoutModel",
       "_view_count": null,
       "_view_module": "@jupyter-widgets/base",
       "_view_module_version": "1.2.0",
       "_view_name": "LayoutView",
       "align_content": null,
       "align_items": null,
       "align_self": null,
       "border": null,
       "bottom": null,
       "display": null,
       "flex": null,
       "flex_flow": null,
       "grid_area": null,
       "grid_auto_columns": null,
       "grid_auto_flow": null,
       "grid_auto_rows": null,
       "grid_column": null,
       "grid_gap": null,
       "grid_row": null,
       "grid_template_areas": null,
       "grid_template_columns": null,
       "grid_template_rows": null,
       "height": null,
       "justify_content": null,
       "justify_items": null,
       "left": null,
       "margin": null,
       "max_height": null,
       "max_width": null,
       "min_height": null,
       "min_width": null,
       "object_fit": null,
       "object_position": null,
       "order": null,
       "overflow": null,
       "overflow_x": null,
       "overflow_y": null,
       "padding": null,
       "right": null,
       "top": null,
       "visibility": null,
       "width": null
      }
     },
     "0691b76236104196baf0312d58a09f92": {
      "model_module": "@jupyter-widgets/controls",
      "model_module_version": "1.5.0",
      "model_name": "HTMLModel",
      "state": {
       "_dom_classes": [],
       "_model_module": "@jupyter-widgets/controls",
       "_model_module_version": "1.5.0",
       "_model_name": "HTMLModel",
       "_view_count": null,
       "_view_module": "@jupyter-widgets/controls",
       "_view_module_version": "1.5.0",
       "_view_name": "HTMLView",
       "description": "",
       "description_tooltip": null,
       "layout": "IPY_MODEL_0949ffe45da14a919cf31bd55a37e635",
       "placeholder": "​",
       "style": "IPY_MODEL_a0ecde25a6c741aa9a63f3b5df0493f2",
       "value": "100%"
      }
     },
     "0949ffe45da14a919cf31bd55a37e635": {
      "model_module": "@jupyter-widgets/base",
      "model_module_version": "1.2.0",
      "model_name": "LayoutModel",
      "state": {
       "_model_module": "@jupyter-widgets/base",
       "_model_module_version": "1.2.0",
       "_model_name": "LayoutModel",
       "_view_count": null,
       "_view_module": "@jupyter-widgets/base",
       "_view_module_version": "1.2.0",
       "_view_name": "LayoutView",
       "align_content": null,
       "align_items": null,
       "align_self": null,
       "border": null,
       "bottom": null,
       "display": null,
       "flex": null,
       "flex_flow": null,
       "grid_area": null,
       "grid_auto_columns": null,
       "grid_auto_flow": null,
       "grid_auto_rows": null,
       "grid_column": null,
       "grid_gap": null,
       "grid_row": null,
       "grid_template_areas": null,
       "grid_template_columns": null,
       "grid_template_rows": null,
       "height": null,
       "justify_content": null,
       "justify_items": null,
       "left": null,
       "margin": null,
       "max_height": null,
       "max_width": null,
       "min_height": null,
       "min_width": null,
       "object_fit": null,
       "object_position": null,
       "order": null,
       "overflow": null,
       "overflow_x": null,
       "overflow_y": null,
       "padding": null,
       "right": null,
       "top": null,
       "visibility": null,
       "width": null
      }
     },
     "15d3e395e0c2458a85c91bf4a5069b53": {
      "model_module": "@jupyter-widgets/controls",
      "model_module_version": "1.5.0",
      "model_name": "HBoxModel",
      "state": {
       "_dom_classes": [],
       "_model_module": "@jupyter-widgets/controls",
       "_model_module_version": "1.5.0",
       "_model_name": "HBoxModel",
       "_view_count": null,
       "_view_module": "@jupyter-widgets/controls",
       "_view_module_version": "1.5.0",
       "_view_name": "HBoxView",
       "box_style": "",
       "children": [
        "IPY_MODEL_0691b76236104196baf0312d58a09f92",
        "IPY_MODEL_dec520da1c224758b030aa71644088a7",
        "IPY_MODEL_bf1876eedd37487cab6ca9b4b2ffd25d"
       ],
       "layout": "IPY_MODEL_035cfc7d6fe94bc4a95450deedf18540"
      }
     },
     "2ce50af82ca148c4a99d892b66535132": {
      "model_module": "@jupyter-widgets/controls",
      "model_module_version": "1.5.0",
      "model_name": "ProgressStyleModel",
      "state": {
       "_model_module": "@jupyter-widgets/controls",
       "_model_module_version": "1.5.0",
       "_model_name": "ProgressStyleModel",
       "_view_count": null,
       "_view_module": "@jupyter-widgets/base",
       "_view_module_version": "1.2.0",
       "_view_name": "StyleView",
       "bar_color": null,
       "description_width": ""
      }
     },
     "44ab5c5e71bb42a182bc07782e6002b6": {
      "model_module": "@jupyter-widgets/controls",
      "model_module_version": "1.5.0",
      "model_name": "DescriptionStyleModel",
      "state": {
       "_model_module": "@jupyter-widgets/controls",
       "_model_module_version": "1.5.0",
       "_model_name": "DescriptionStyleModel",
       "_view_count": null,
       "_view_module": "@jupyter-widgets/base",
       "_view_module_version": "1.2.0",
       "_view_name": "StyleView",
       "description_width": ""
      }
     },
     "926602c070b54256835b76e90feaa97c": {
      "model_module": "@jupyter-widgets/base",
      "model_module_version": "1.2.0",
      "model_name": "LayoutModel",
      "state": {
       "_model_module": "@jupyter-widgets/base",
       "_model_module_version": "1.2.0",
       "_model_name": "LayoutModel",
       "_view_count": null,
       "_view_module": "@jupyter-widgets/base",
       "_view_module_version": "1.2.0",
       "_view_name": "LayoutView",
       "align_content": null,
       "align_items": null,
       "align_self": null,
       "border": null,
       "bottom": null,
       "display": null,
       "flex": null,
       "flex_flow": null,
       "grid_area": null,
       "grid_auto_columns": null,
       "grid_auto_flow": null,
       "grid_auto_rows": null,
       "grid_column": null,
       "grid_gap": null,
       "grid_row": null,
       "grid_template_areas": null,
       "grid_template_columns": null,
       "grid_template_rows": null,
       "height": null,
       "justify_content": null,
       "justify_items": null,
       "left": null,
       "margin": null,
       "max_height": null,
       "max_width": null,
       "min_height": null,
       "min_width": null,
       "object_fit": null,
       "object_position": null,
       "order": null,
       "overflow": null,
       "overflow_x": null,
       "overflow_y": null,
       "padding": null,
       "right": null,
       "top": null,
       "visibility": null,
       "width": null
      }
     },
     "a0ecde25a6c741aa9a63f3b5df0493f2": {
      "model_module": "@jupyter-widgets/controls",
      "model_module_version": "1.5.0",
      "model_name": "DescriptionStyleModel",
      "state": {
       "_model_module": "@jupyter-widgets/controls",
       "_model_module_version": "1.5.0",
       "_model_name": "DescriptionStyleModel",
       "_view_count": null,
       "_view_module": "@jupyter-widgets/base",
       "_view_module_version": "1.2.0",
       "_view_name": "StyleView",
       "description_width": ""
      }
     },
     "bf1876eedd37487cab6ca9b4b2ffd25d": {
      "model_module": "@jupyter-widgets/controls",
      "model_module_version": "1.5.0",
      "model_name": "HTMLModel",
      "state": {
       "_dom_classes": [],
       "_model_module": "@jupyter-widgets/controls",
       "_model_module_version": "1.5.0",
       "_model_name": "HTMLModel",
       "_view_count": null,
       "_view_module": "@jupyter-widgets/controls",
       "_view_module_version": "1.5.0",
       "_view_name": "HTMLView",
       "description": "",
       "description_tooltip": null,
       "layout": "IPY_MODEL_ecc817fa0fd54b0abfabb0d740e8e591",
       "placeholder": "​",
       "style": "IPY_MODEL_44ab5c5e71bb42a182bc07782e6002b6",
       "value": " 1266/1266 [04:05&lt;00:00,  7.55it/s]"
      }
     },
     "dec520da1c224758b030aa71644088a7": {
      "model_module": "@jupyter-widgets/controls",
      "model_module_version": "1.5.0",
      "model_name": "FloatProgressModel",
      "state": {
       "_dom_classes": [],
       "_model_module": "@jupyter-widgets/controls",
       "_model_module_version": "1.5.0",
       "_model_name": "FloatProgressModel",
       "_view_count": null,
       "_view_module": "@jupyter-widgets/controls",
       "_view_module_version": "1.5.0",
       "_view_name": "ProgressView",
       "bar_style": "success",
       "description": "",
       "description_tooltip": null,
       "layout": "IPY_MODEL_926602c070b54256835b76e90feaa97c",
       "max": 1266,
       "min": 0,
       "orientation": "horizontal",
       "style": "IPY_MODEL_2ce50af82ca148c4a99d892b66535132",
       "value": 1266
      }
     },
     "ecc817fa0fd54b0abfabb0d740e8e591": {
      "model_module": "@jupyter-widgets/base",
      "model_module_version": "1.2.0",
      "model_name": "LayoutModel",
      "state": {
       "_model_module": "@jupyter-widgets/base",
       "_model_module_version": "1.2.0",
       "_model_name": "LayoutModel",
       "_view_count": null,
       "_view_module": "@jupyter-widgets/base",
       "_view_module_version": "1.2.0",
       "_view_name": "LayoutView",
       "align_content": null,
       "align_items": null,
       "align_self": null,
       "border": null,
       "bottom": null,
       "display": null,
       "flex": null,
       "flex_flow": null,
       "grid_area": null,
       "grid_auto_columns": null,
       "grid_auto_flow": null,
       "grid_auto_rows": null,
       "grid_column": null,
       "grid_gap": null,
       "grid_row": null,
       "grid_template_areas": null,
       "grid_template_columns": null,
       "grid_template_rows": null,
       "height": null,
       "justify_content": null,
       "justify_items": null,
       "left": null,
       "margin": null,
       "max_height": null,
       "max_width": null,
       "min_height": null,
       "min_width": null,
       "object_fit": null,
       "object_position": null,
       "order": null,
       "overflow": null,
       "overflow_x": null,
       "overflow_y": null,
       "padding": null,
       "right": null,
       "top": null,
       "visibility": null,
       "width": null
      }
     }
    },
    "version_major": 2,
    "version_minor": 0
   }
  }
 },
 "nbformat": 4,
 "nbformat_minor": 5
}
