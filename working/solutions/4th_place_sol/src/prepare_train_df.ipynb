{
 "cells": [
  {
   "cell_type": "markdown",
   "metadata": {},
   "source": [
    "# Notes"
   ]
  },
  {
   "cell_type": "code",
   "execution_count": 1,
   "metadata": {
    "id": "2dt7oG43VAqc"
   },
   "outputs": [
    {
     "ename": "ModuleNotFoundError",
     "evalue": "No module named 'librosa'",
     "output_type": "error",
     "traceback": [
      "\u001b[1;31m---------------------------------------------------------------------------\u001b[0m",
      "\u001b[1;31mModuleNotFoundError\u001b[0m                       Traceback (most recent call last)",
      "\u001b[1;32m~\\AppData\\Local\\Temp/ipykernel_15016/1266826468.py\u001b[0m in \u001b[0;36m<module>\u001b[1;34m\u001b[0m\n\u001b[0;32m      1\u001b[0m \u001b[1;32mimport\u001b[0m \u001b[0mnumpy\u001b[0m \u001b[1;32mas\u001b[0m \u001b[0mnp\u001b[0m\u001b[1;33m\u001b[0m\u001b[1;33m\u001b[0m\u001b[0m\n\u001b[1;32m----> 2\u001b[1;33m \u001b[1;32mimport\u001b[0m \u001b[0mlibrosa\u001b[0m \u001b[1;32mas\u001b[0m \u001b[0mlb\u001b[0m\u001b[1;33m\u001b[0m\u001b[1;33m\u001b[0m\u001b[0m\n\u001b[0m\u001b[0;32m      3\u001b[0m \u001b[1;32mimport\u001b[0m \u001b[0mlibrosa\u001b[0m\u001b[1;33m.\u001b[0m\u001b[0mdisplay\u001b[0m \u001b[1;32mas\u001b[0m \u001b[0mlbd\u001b[0m\u001b[1;33m\u001b[0m\u001b[1;33m\u001b[0m\u001b[0m\n\u001b[0;32m      4\u001b[0m \u001b[1;32mimport\u001b[0m \u001b[0msoundfile\u001b[0m \u001b[1;32mas\u001b[0m \u001b[0msf\u001b[0m\u001b[1;33m\u001b[0m\u001b[1;33m\u001b[0m\u001b[0m\n\u001b[0;32m      5\u001b[0m \u001b[1;32mfrom\u001b[0m  \u001b[0msoundfile\u001b[0m \u001b[1;32mimport\u001b[0m \u001b[0mSoundFile\u001b[0m\u001b[1;33m\u001b[0m\u001b[1;33m\u001b[0m\u001b[0m\n",
      "\u001b[1;31mModuleNotFoundError\u001b[0m: No module named 'librosa'"
     ]
    }
   ],
   "source": [
    "import numpy as np\n",
    "import librosa as lb\n",
    "import librosa.display as lbd\n",
    "import soundfile as sf\n",
    "from  soundfile import SoundFile\n",
    "import pandas as pd\n",
    "from  IPython.display import Audio\n",
    "from pathlib import Path\n",
    "\n",
    "from matplotlib import pyplot as plt\n",
    "\n",
    "from tqdm.notebook import tqdm\n",
    "import joblib, json\n",
    "\n",
    "from  sklearn.model_selection  import StratifiedKFold"
   ]
  },
  {
   "cell_type": "code",
   "execution_count": null,
   "metadata": {},
   "outputs": [],
   "source": [
    "SR = 32_000\n",
    "SEED = 666\n",
    "\n",
    "DATA_ROOT = Path(\"../input/birdclef-2021\")\n",
    "TRAIN_AUDIO_ROOT = Path(\"../input/birdclef-2021/train_short_audio\")\n",
    "TRAIN_AUDIO_IMAGES_SAVE_ROOT = Path(\"audio_images\") # Where to save the mels images\n",
    "TRAIN_AUDIO_IMAGES_SAVE_ROOT.mkdir(exist_ok=True, parents=True)"
   ]
  },
  {
   "cell_type": "code",
   "execution_count": null,
   "metadata": {},
   "outputs": [],
   "source": []
  },
  {
   "cell_type": "code",
   "execution_count": null,
   "metadata": {},
   "outputs": [],
   "source": [
    "def get_audio_info(filepath):\n",
    "    \"\"\"Get some properties from  an audio file\"\"\"\n",
    "    with SoundFile(filepath) as f:\n",
    "        sr = f.samplerate\n",
    "        frames = f.frames\n",
    "        duration = float(frames)/sr\n",
    "    return {\"frames\": frames, \"sr\": sr, \"duration\": duration}"
   ]
  },
  {
   "cell_type": "code",
   "execution_count": null,
   "metadata": {
    "id": "Kmh6xx5_NCjJ",
    "outputId": "ad61f09f-6f0e-4204-c658-21112e051785"
   },
   "outputs": [],
   "source": [
    "def make_df(n_splits=4, seed=SEED, nrows=None):\n",
    "    \n",
    "    df = pd.read_csv(DATA_ROOT/\"train_metadata.csv\", nrows=nrows)\n",
    "\n",
    "    LABEL_IDS = {label: label_id for label_id,label in enumerate(sorted(df[\"primary_label\"].unique()))}\n",
    "    \n",
    "#     df = df.iloc[PART_INDEXES[PART_ID]: PART_INDEXES[PART_ID+1]]\n",
    "\n",
    "    df[\"filepath\"] = [str(TRAIN_AUDIO_ROOT/primary_label/filename) for primary_label,filename in zip(df.primary_label, df.filename) ]\n",
    "\n",
    "    pool = joblib.Parallel(4)\n",
    "    mapper = joblib.delayed(get_audio_info)\n",
    "    tasks = [mapper(filepath) for filepath in df.filepath]\n",
    "\n",
    "    df = pd.concat([df, pd.DataFrame(pool(tqdm(tasks)))], axis=1, sort=False)\n",
    "    \n",
    "    skf = StratifiedKFold(n_splits=n_splits, random_state=seed, shuffle=True)\n",
    "    splits = skf.split(np.arange(len(df)), y=df.primary_label.values)\n",
    "    df[\"fold\"] = -1\n",
    "\n",
    "    for fold, (train_set, val_set) in enumerate(splits):\n",
    "        \n",
    "        df.loc[df.index[val_set], \"fold\"] = fold\n",
    "\n",
    "    return LABEL_IDS, df"
   ]
  },
  {
   "cell_type": "code",
   "execution_count": null,
   "metadata": {},
   "outputs": [],
   "source": []
  },
  {
   "cell_type": "code",
   "execution_count": null,
   "metadata": {
    "id": "SRRhx1EAN75G",
    "outputId": "f1688387-b564-4f8d-8895-4490c90d4150"
   },
   "outputs": [],
   "source": [
    "LABEL_IDS, df = make_df(nrows=None)\n",
    "\n",
    "df.to_csv(\"rich_train_metadata.csv\", index=True)\n",
    "with open(\"LABEL_IDS.json\", \"w\") as f:\n",
    "    json.dump(LABEL_IDS, f)\n",
    "\n",
    "print(df.shape)\n",
    "df.head()"
   ]
  },
  {
   "cell_type": "code",
   "execution_count": null,
   "metadata": {},
   "outputs": [],
   "source": []
  },
  {
   "cell_type": "code",
   "execution_count": null,
   "metadata": {},
   "outputs": [],
   "source": [
    "df[\"fold\"].value_counts()"
   ]
  },
  {
   "cell_type": "code",
   "execution_count": null,
   "metadata": {
    "id": "ZRz-DwbNVAqg",
    "outputId": "51f26b97-6a1e-4e39-c6fa-5114cfe27a25"
   },
   "outputs": [],
   "source": [
    "df[\"primary_label\"].value_counts()"
   ]
  },
  {
   "cell_type": "code",
   "execution_count": null,
   "metadata": {},
   "outputs": [],
   "source": [
    "df[\"duration\"].hist(bins=1000)"
   ]
  },
  {
   "cell_type": "code",
   "execution_count": null,
   "metadata": {},
   "outputs": [],
   "source": [
    "df[\"duration\"].quantile(np.arange(0, 1, 0.01)).plot()"
   ]
  },
  {
   "cell_type": "code",
   "execution_count": null,
   "metadata": {
    "id": "xh4hfWZhuglm"
   },
   "outputs": [],
   "source": [
    "df.to_csv(\"train_metadata_new.csv\")"
   ]
  },
  {
   "cell_type": "code",
   "execution_count": null,
   "metadata": {},
   "outputs": [],
   "source": []
  },
  {
   "cell_type": "code",
   "execution_count": null,
   "metadata": {},
   "outputs": [],
   "source": []
  },
  {
   "cell_type": "code",
   "execution_count": null,
   "metadata": {},
   "outputs": [],
   "source": []
  }
 ],
 "metadata": {
  "kernelspec": {
   "display_name": "Python 3 (ipykernel)",
   "language": "python",
   "name": "python3"
  },
  "language_info": {
   "codemirror_mode": {
    "name": "ipython",
    "version": 3
   },
   "file_extension": ".py",
   "mimetype": "text/x-python",
   "name": "python",
   "nbconvert_exporter": "python",
   "pygments_lexer": "ipython3",
   "version": "3.9.6"
  }
 },
 "nbformat": 4,
 "nbformat_minor": 4
}
