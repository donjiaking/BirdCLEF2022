{
 "cells": [
  {
   "cell_type": "code",
   "execution_count": 1,
   "id": "a53b5e91",
   "metadata": {
    "execution": {
     "iopub.execute_input": "2022-03-01T00:07:22.590943Z",
     "iopub.status.busy": "2022-03-01T00:07:22.589414Z",
     "iopub.status.idle": "2022-03-01T00:08:15.714448Z",
     "shell.execute_reply": "2022-03-01T00:08:15.713810Z",
     "shell.execute_reply.started": "2022-02-28T05:52:57.070264Z"
    },
    "papermill": {
     "duration": 53.14818,
     "end_time": "2022-03-01T00:08:15.714610",
     "exception": false,
     "start_time": "2022-03-01T00:07:22.566430",
     "status": "completed"
    },
    "tags": []
   },
   "outputs": [
    {
     "name": "stdout",
     "output_type": "stream",
     "text": [
      "Processing /kaggle/input/birds-inference-pip-wheels/torchaudio-0.8.1-cp37-cp37m-manylinux1_x86_64.whl\r\n",
      "Processing /kaggle/input/birds-inference-pip-wheels/torch-1.8.1-cp37-cp37m-manylinux1_x86_64.whl\r\n",
      "Requirement already satisfied: typing-extensions in /opt/conda/lib/python3.7/site-packages (from torch==1.8.1) (4.0.1)\r\n",
      "Requirement already satisfied: numpy in /opt/conda/lib/python3.7/site-packages (from torch==1.8.1) (1.20.3)\r\n",
      "Installing collected packages: torch, torchaudio\r\n",
      "  Attempting uninstall: torch\r\n",
      "    Found existing installation: torch 1.9.1\r\n",
      "    Uninstalling torch-1.9.1:\r\n",
      "      Successfully uninstalled torch-1.9.1\r\n",
      "  Attempting uninstall: torchaudio\r\n",
      "    Found existing installation: torchaudio 0.9.1\r\n",
      "    Uninstalling torchaudio-0.9.1:\r\n",
      "      Successfully uninstalled torchaudio-0.9.1\r\n",
      "Successfully installed torch-1.8.1 torchaudio-0.8.1\r\n",
      "\u001b[33mWARNING: Running pip as the 'root' user can result in broken permissions and conflicting behaviour with the system package manager. It is recommended to use a virtual environment instead: https://pip.pypa.io/warnings/venv\u001b[0m\r\n",
      "Processing /kaggle/input/birds-inference-pip-wheels/timm-0.4.8.zip\r\n",
      "  Preparing metadata (setup.py) ... \u001b[?25l-\b \bdone\r\n",
      "\u001b[?25hBuilding wheels for collected packages: timm\r\n",
      "  Building wheel for timm (setup.py) ... \u001b[?25l-\b \b\\\b \b|\b \bdone\r\n",
      "\u001b[?25h  Created wheel for timm: filename=timm-0.4.8-py3-none-any.whl size=344972 sha256=50fc5c5641129590dc7c21c63c647b946d847402ec1b0d15e213a5839ce6b444\r\n",
      "  Stored in directory: /root/.cache/pip/wheels/1e/47/7d/47573c17effc52efe33091023a7805a805225c2fead2a6cf21\r\n",
      "Successfully built timm\r\n",
      "Installing collected packages: timm\r\n",
      "Successfully installed timm-0.4.8\r\n",
      "\u001b[33mWARNING: Running pip as the 'root' user can result in broken permissions and conflicting behaviour with the system package manager. It is recommended to use a virtual environment instead: https://pip.pypa.io/warnings/venv\u001b[0m\r\n",
      "Processing /kaggle/input/birds-inference-pip-wheels/audiomentations-0.16.0-py3-none-any.whl\r\n",
      "Installing collected packages: audiomentations\r\n",
      "Successfully installed audiomentations-0.16.0\r\n",
      "\u001b[33mWARNING: Running pip as the 'root' user can result in broken permissions and conflicting behaviour with the system package manager. It is recommended to use a virtual environment instead: https://pip.pypa.io/warnings/venv\u001b[0m\r\n",
      "Processing /kaggle/input/birds-inference-pip-wheels/torchlibrosa-0.0.9-py3-none-any.whl\r\n",
      "Installing collected packages: torchlibrosa\r\n",
      "Successfully installed torchlibrosa-0.0.9\r\n",
      "\u001b[33mWARNING: Running pip as the 'root' user can result in broken permissions and conflicting behaviour with the system package manager. It is recommended to use a virtual environment instead: https://pip.pypa.io/warnings/venv\u001b[0m\r\n"
     ]
    }
   ],
   "source": [
    "!pip install ../input/birds-inference-pip-wheels/torchaudio-0.8.1-cp37-cp37m-manylinux1_x86_64.whl ../input/birds-inference-pip-wheels/torch-1.8.1-cp37-cp37m-manylinux1_x86_64.whl\n",
    "!pip install ../input/birds-inference-pip-wheels/timm-0.4.8.zip --no-index --no-deps\n",
    "#!pip install ../input/birdclef21trainmeta/timm-0.4.9_23052021/pytorch-image-models-master --no-index --no-deps\n",
    "!pip install ../input/birds-inference-pip-wheels/audiomentations-0.16.0-py3-none-any.whl --no-index --no-deps\n",
    "!pip install ../input/birds-inference-pip-wheels/torchlibrosa-0.0.9-py3-none-any.whl --no-index --no-deps"
   ]
  },
  {
   "cell_type": "code",
   "execution_count": 2,
   "id": "32f155e9",
   "metadata": {
    "execution": {
     "iopub.execute_input": "2022-03-01T00:08:15.769252Z",
     "iopub.status.busy": "2022-03-01T00:08:15.768310Z",
     "iopub.status.idle": "2022-03-01T00:08:17.324831Z",
     "shell.execute_reply": "2022-03-01T00:08:17.325297Z",
     "shell.execute_reply.started": "2022-02-28T05:53:12.745856Z"
    },
    "papermill": {
     "duration": 1.584035,
     "end_time": "2022-03-01T00:08:17.325461",
     "exception": false,
     "start_time": "2022-03-01T00:08:15.741426",
     "status": "completed"
    },
    "tags": []
   },
   "outputs": [
    {
     "data": {
      "text/plain": [
       "'0.4.8'"
      ]
     },
     "execution_count": 2,
     "metadata": {},
     "output_type": "execute_result"
    }
   ],
   "source": [
    "import timm\n",
    "timm.__version__"
   ]
  },
  {
   "cell_type": "markdown",
   "id": "1feadfbe",
   "metadata": {
    "papermill": {
     "duration": 0.02351,
     "end_time": "2022-03-01T00:08:17.373189",
     "exception": false,
     "start_time": "2022-03-01T00:08:17.349679",
     "status": "completed"
    },
    "tags": []
   },
   "source": [
    "# Imports"
   ]
  },
  {
   "cell_type": "code",
   "execution_count": 1,
   "id": "c38b2e08",
   "metadata": {
    "execution": {
     "iopub.execute_input": "2022-03-01T00:08:17.429910Z",
     "iopub.status.busy": "2022-03-01T00:08:17.429003Z",
     "iopub.status.idle": "2022-03-01T00:08:24.475042Z",
     "shell.execute_reply": "2022-03-01T00:08:24.474150Z",
     "shell.execute_reply.started": "2022-02-28T05:53:12.756623Z"
    },
    "papermill": {
     "duration": 7.078111,
     "end_time": "2022-03-01T00:08:24.475219",
     "exception": false,
     "start_time": "2022-03-01T00:08:17.397108",
     "status": "completed"
    },
    "tags": []
   },
   "outputs": [],
   "source": [
    "import pandas as pd\n",
    "# import timm\n",
    "from torch import nn\n",
    "import torch\n",
    "import torchaudio as ta\n",
    "from torch.cuda.amp import autocast\n",
    "import random\n",
    "\n",
    "from torch.nn import functional as F\n",
    "from torch.distributions import Beta\n",
    "from torch.nn.parameter import Parameter\n",
    "from torch.utils.data import Dataset\n",
    "\n",
    "import numpy as np\n",
    "# import librosa\n",
    "import ast\n",
    "\n",
    "import os\n",
    "from types import SimpleNamespace\n",
    "import numpy as np\n",
    "\n",
    "import numpy as np\n",
    "import pandas as pd\n",
    "import importlib\n",
    "import sys\n",
    "import random\n",
    "from tqdm import tqdm\n",
    "import gc\n",
    "import argparse\n",
    "import torch\n",
    "from torch import optim\n",
    "from torch.cuda.amp import GradScaler, autocast\n",
    "from collections import defaultdict\n",
    "import cv2\n",
    "from copy import copy\n",
    "import os\n",
    "# from transformers import get_cosine_schedule_with_warmup\n",
    "from torch.utils.data import SequentialSampler, DataLoader\n"
   ]
  },
  {
   "cell_type": "code",
   "execution_count": 2,
   "id": "5f0a7275",
   "metadata": {
    "execution": {
     "iopub.execute_input": "2022-03-01T00:08:24.533038Z",
     "iopub.status.busy": "2022-03-01T00:08:24.532116Z",
     "iopub.status.idle": "2022-03-01T00:08:24.534647Z",
     "shell.execute_reply": "2022-03-01T00:08:24.534067Z",
     "shell.execute_reply.started": "2022-02-28T05:53:12.770247Z"
    },
    "papermill": {
     "duration": 0.033167,
     "end_time": "2022-03-01T00:08:24.534761",
     "exception": false,
     "start_time": "2022-03-01T00:08:24.501594",
     "status": "completed"
    },
    "tags": []
   },
   "outputs": [],
   "source": [
    "def set_seed(seed=1234):\n",
    "    random.seed(seed)\n",
    "    os.environ[\"PYTHONHASHSEED\"] = str(seed)\n",
    "    np.random.seed(seed)\n",
    "    torch.manual_seed(seed)\n",
    "    torch.cuda.manual_seed(seed)\n",
    "    torch.backends.cudnn.deterministic = False\n",
    "    torch.backends.cudnn.benchmark = True"
   ]
  },
  {
   "cell_type": "markdown",
   "id": "31595021",
   "metadata": {
    "papermill": {
     "duration": 0.023883,
     "end_time": "2022-03-01T00:08:24.584066",
     "exception": false,
     "start_time": "2022-03-01T00:08:24.560183",
     "status": "completed"
    },
    "tags": []
   },
   "source": [
    "# Config"
   ]
  },
  {
   "cell_type": "code",
   "execution_count": 3,
   "id": "441785ab",
   "metadata": {
    "execution": {
     "iopub.execute_input": "2022-03-01T00:08:24.700337Z",
     "iopub.status.busy": "2022-03-01T00:08:24.640893Z",
     "iopub.status.idle": "2022-03-01T00:08:24.703072Z",
     "shell.execute_reply": "2022-03-01T00:08:24.703497Z"
    },
    "papermill": {
     "duration": 0.095117,
     "end_time": "2022-03-01T00:08:24.703640",
     "exception": false,
     "start_time": "2022-03-01T00:08:24.608523",
     "status": "completed"
    },
    "tags": []
   },
   "outputs": [
    {
     "data": {
      "text/plain": [
       "namespace(data_folder='',\n",
       "          name='julian',\n",
       "          data_dir='../input/birdclef-2022/',\n",
       "          train_data_folder='../input/birdclef-2022/train_audio/',\n",
       "          val_data_folder='../input/birdclef-2022/train_audio/',\n",
       "          output_dir='first_model',\n",
       "          dataset='base_ds',\n",
       "          min_rating=2.0,\n",
       "          val_df=None,\n",
       "          batch_size_val=64,\n",
       "          train_aug=None,\n",
       "          val_aug=None,\n",
       "          test_augs=None,\n",
       "          wav_len_val=5,\n",
       "          window_size=2048,\n",
       "          hop_size=512,\n",
       "          sample_rate=32000,\n",
       "          fmin=16,\n",
       "          fmax=16386,\n",
       "          power=2,\n",
       "          mel_bins=256,\n",
       "          top_db=80.0,\n",
       "          backbone='resnet34',\n",
       "          pretrained=True,\n",
       "          pretrained_weights=None,\n",
       "          train=True,\n",
       "          val=False,\n",
       "          in_chans=1,\n",
       "          alpha=1,\n",
       "          eval_epochs=1,\n",
       "          eval_train_epochs=1,\n",
       "          warmup=0,\n",
       "          mel_norm=False,\n",
       "          label_smoothing=0,\n",
       "          remove_pretrained=[],\n",
       "          seed=123,\n",
       "          save_val_data=True,\n",
       "          mixed_precision=True,\n",
       "          gpu=0,\n",
       "          num_workers=4,\n",
       "          drop_last=True,\n",
       "          mixup2=0,\n",
       "          mixup_2x=False,\n",
       "          birds=array(['afrsil1', 'akekee', 'akepa1', 'akiapo', 'akikik', 'amewig',\n",
       "                       'aniani', 'apapan', 'arcter', 'barpet', 'bcnher', 'belkin1',\n",
       "                       'bkbplo', 'bknsti', 'bkwpet', 'blkfra', 'blknod', 'bongul',\n",
       "                       'brant', 'brnboo', 'brnnod', 'brnowl', 'brtcur', 'bubsan',\n",
       "                       'buffle', 'bulpet', 'burpar', 'buwtea', 'cacgoo1', 'calqua',\n",
       "                       'cangoo', 'canvas', 'caster1', 'categr', 'chbsan', 'chemun',\n",
       "                       'chukar', 'cintea', 'comgal1', 'commyn', 'compea', 'comsan',\n",
       "                       'comwax', 'coopet', 'crehon', 'dunlin', 'elepai', 'ercfra',\n",
       "                       'eurwig', 'fragul', 'gadwal', 'gamqua', 'glwgul', 'gnwtea',\n",
       "                       'golphe', 'grbher3', 'grefri', 'gresca', 'gryfra', 'gwfgoo',\n",
       "                       'hawama', 'hawcoo', 'hawcre', 'hawgoo', 'hawhaw', 'hawpet1',\n",
       "                       'hoomer', 'houfin', 'houspa', 'hudgod', 'iiwi', 'incter1',\n",
       "                       'jabwar', 'japqua', 'kalphe', 'kauama', 'laugul', 'layalb',\n",
       "                       'lcspet', 'leasan', 'leater1', 'lessca', 'lesyel', 'lobdow',\n",
       "                       'lotjae', 'madpet', 'magpet1', 'mallar3', 'masboo', 'mauala',\n",
       "                       'maupar', 'merlin', 'mitpar', 'moudov', 'norcar', 'norhar2',\n",
       "                       'normoc', 'norpin', 'norsho', 'nutman', 'oahama', 'omao', 'osprey',\n",
       "                       'pagplo', 'palila', 'parjae', 'pecsan', 'peflov', 'perfal',\n",
       "                       'pibgre', 'pomjae', 'puaioh', 'reccar', 'redava', 'redjun',\n",
       "                       'redpha1', 'refboo', 'rempar', 'rettro', 'ribgul', 'rinduc',\n",
       "                       'rinphe', 'rocpig', 'rorpar', 'rudtur', 'ruff', 'saffin', 'sander',\n",
       "                       'semplo', 'sheowl', 'shtsan', 'skylar', 'snogoo', 'sooshe',\n",
       "                       'sooter1', 'sopsku1', 'sora', 'spodov', 'sposan', 'towsol',\n",
       "                       'wantat1', 'warwhe1', 'wesmea', 'wessan', 'wetshe', 'whfibi',\n",
       "                       'whiter', 'whttro', 'wiltur', 'yebcar', 'yefcan', 'zebdov'],\n",
       "                      dtype='<U7'),\n",
       "          n_classes=152,\n",
       "          wav_crop_len=30,\n",
       "          lr=0.0001,\n",
       "          epochs=20,\n",
       "          batch_size=64,\n",
       "          mixup=True,\n",
       "          mix_beta=1,\n",
       "          train_df1='../input/birdclef-2022/train_metadata.csv',\n",
       "          train_df2='../input/birdclef-2022-df-train-with-durations/df-with-durations.csv',\n",
       "          device='cuda',\n",
       "          tr_collate_fn=None,\n",
       "          val_collate_fn=None,\n",
       "          dev=False)"
      ]
     },
     "execution_count": 3,
     "metadata": {},
     "output_type": "execute_result"
    }
   ],
   "source": [
    "cfg = SimpleNamespace()\n",
    "\n",
    "# paths\n",
    "cfg.data_folder = ''\n",
    "cfg.name = \"julian\"\n",
    "cfg.data_dir = \"../input/birdclef-2022/\"\n",
    "cfg.train_data_folder = cfg.data_dir + \"train_audio/\"\n",
    "cfg.val_data_folder = cfg.data_dir + \"train_audio/\"\n",
    "cfg.output_dir = \"first_model\"\n",
    "\n",
    "# dataset\n",
    "cfg.dataset = \"base_ds\"\n",
    "cfg.min_rating = 0\n",
    "cfg.val_df = None\n",
    "cfg.batch_size_val = 1\n",
    "cfg.train_aug = None\n",
    "cfg.val_aug = None\n",
    "cfg.test_augs = None\n",
    "cfg.wav_len_val = 5  # seconds\n",
    "\n",
    "# audio\n",
    "cfg.window_size = 2048\n",
    "cfg.hop_size = 512\n",
    "cfg.sample_rate = 32000\n",
    "cfg.fmin = 16\n",
    "cfg.fmax = 16386\n",
    "cfg.power = 2\n",
    "cfg.mel_bins = 256\n",
    "cfg.top_db = 80.0\n",
    "\n",
    "# img model\n",
    "cfg.backbone = \"resnet18\"\n",
    "cfg.pretrained = True\n",
    "cfg.pretrained_weights = None\n",
    "cfg.train = True\n",
    "cfg.val = False\n",
    "cfg.in_chans = 1\n",
    "\n",
    "cfg.alpha = 1\n",
    "cfg.eval_epochs = 1\n",
    "cfg.eval_train_epochs = 1\n",
    "cfg.warmup = 0\n",
    "\n",
    "cfg.mel_norm = False\n",
    "\n",
    "cfg.label_smoothing = 0\n",
    "\n",
    "cfg.remove_pretrained = []\n",
    "\n",
    "# training\n",
    "cfg.seed = 123\n",
    "cfg.save_val_data = True\n",
    "\n",
    "# ressources\n",
    "cfg.mixed_precision = True\n",
    "cfg.gpu = 0\n",
    "cfg.num_workers = 4 # 18\n",
    "cfg.drop_last = True \n",
    "\n",
    "cfg.mixup2 = 0\n",
    "\n",
    "cfg.label_smoothing = 0\n",
    "\n",
    "cfg.mixup_2x = False\n",
    "\n",
    "\n",
    "cfg.birds = np.array(['afrsil1', 'akekee', 'akepa1', 'akiapo', 'akikik', 'amewig',\n",
    "       'aniani', 'apapan', 'arcter', 'barpet', 'bcnher', 'belkin1',\n",
    "       'bkbplo', 'bknsti', 'bkwpet', 'blkfra', 'blknod', 'bongul',\n",
    "       'brant', 'brnboo', 'brnnod', 'brnowl', 'brtcur', 'bubsan',\n",
    "       'buffle', 'bulpet', 'burpar', 'buwtea', 'cacgoo1', 'calqua',\n",
    "       'cangoo', 'canvas', 'caster1', 'categr', 'chbsan', 'chemun',\n",
    "       'chukar', 'cintea', 'comgal1', 'commyn', 'compea', 'comsan',\n",
    "       'comwax', 'coopet', 'crehon', 'dunlin', 'elepai', 'ercfra',\n",
    "       'eurwig', 'fragul', 'gadwal', 'gamqua', 'glwgul', 'gnwtea',\n",
    "       'golphe', 'grbher3', 'grefri', 'gresca', 'gryfra', 'gwfgoo',\n",
    "       'hawama', 'hawcoo', 'hawcre', 'hawgoo', 'hawhaw', 'hawpet1',\n",
    "       'hoomer', 'houfin', 'houspa', 'hudgod', 'iiwi', 'incter1',\n",
    "       'jabwar', 'japqua', 'kalphe', 'kauama', 'laugul', 'layalb',\n",
    "       'lcspet', 'leasan', 'leater1', 'lessca', 'lesyel', 'lobdow',\n",
    "       'lotjae', 'madpet', 'magpet1', 'mallar3', 'masboo', 'mauala',\n",
    "       'maupar', 'merlin', 'mitpar', 'moudov', 'norcar', 'norhar2',\n",
    "       'normoc', 'norpin', 'norsho', 'nutman', 'oahama', 'omao', 'osprey',\n",
    "       'pagplo', 'palila', 'parjae', 'pecsan', 'peflov', 'perfal',\n",
    "       'pibgre', 'pomjae', 'puaioh', 'reccar', 'redava', 'redjun',\n",
    "       'redpha1', 'refboo', 'rempar', 'rettro', 'ribgul', 'rinduc',\n",
    "       'rinphe', 'rocpig', 'rorpar', 'rudtur', 'ruff', 'saffin', 'sander',\n",
    "       'semplo', 'sheowl', 'shtsan', 'skylar', 'snogoo', 'sooshe',\n",
    "       'sooter1', 'sopsku1', 'sora', 'spodov', 'sposan', 'towsol',\n",
    "       'wantat1', 'warwhe1', 'wesmea', 'wessan', 'wetshe', 'whfibi',\n",
    "       'whiter', 'whttro', 'wiltur', 'yebcar', 'yefcan', 'zebdov'])\n",
    "\n",
    "\n",
    "cfg.n_classes = len(cfg.birds)\n",
    "# dataset\n",
    "cfg.min_rating = 2.0\n",
    "\n",
    "cfg.wav_crop_len = 30  # seconds\n",
    "\n",
    "cfg.lr = 0.0001\n",
    "cfg.epochs = 20\n",
    "cfg.batch_size = 64\n",
    "cfg.batch_size_val = 64\n",
    "cfg.backbone = \"resnet34\"\n",
    "\n",
    "\n",
    "cfg.save_val_data = True\n",
    "cfg.mixed_precision = True\n",
    "\n",
    "cfg.mixup = True\n",
    "cfg.mix_beta = 1\n",
    "\n",
    "\n",
    "cfg.train_df1 = \"../input/birdclef-2022/train_metadata.csv\"\n",
    "cfg.train_df2 = \"../input/birdclef-2022-df-train-with-durations/df-with-durations.csv\"\n",
    "\n",
    "\n",
    "cfg.device = 'cuda' if torch.cuda.is_available() else 'cpu'\n",
    "\n",
    "cfg.tr_collate_fn = None\n",
    "cfg.val_collate_fn = None\n",
    "cfg.val = False\n",
    "\n",
    "cfg.dev = False\n",
    "\n",
    "cfg"
   ]
  },
  {
   "cell_type": "markdown",
   "id": "b42ecb53",
   "metadata": {
    "papermill": {
     "duration": 0.02391,
     "end_time": "2022-03-01T00:08:24.752180",
     "exception": false,
     "start_time": "2022-03-01T00:08:24.728270",
     "status": "completed"
    },
    "tags": []
   },
   "source": [
    "# Dataset"
   ]
  },
  {
   "cell_type": "code",
   "execution_count": 4,
   "id": "d18a65e9",
   "metadata": {
    "execution": {
     "iopub.execute_input": "2022-03-01T00:08:24.829379Z",
     "iopub.status.busy": "2022-03-01T00:08:24.827695Z",
     "iopub.status.idle": "2022-03-01T00:08:24.829939Z",
     "shell.execute_reply": "2022-03-01T00:08:24.830375Z",
     "shell.execute_reply.started": "2022-02-28T05:53:12.814269Z"
    },
    "papermill": {
     "duration": 0.054056,
     "end_time": "2022-03-01T00:08:24.830519",
     "exception": false,
     "start_time": "2022-03-01T00:08:24.776463",
     "status": "completed"
    },
    "tags": []
   },
   "outputs": [],
   "source": [
    "def batch_to_device(batch, device):\n",
    "    batch_dict = {key: batch[key].to(device) for key in batch}\n",
    "    return batch_dict\n",
    "\n",
    "\n",
    "\n",
    "class CustomDataset(Dataset):\n",
    "    def __init__(self, df, cfg, aug, mode=\"train\"):\n",
    "\n",
    "        self.cfg = cfg\n",
    "        self.mode = mode\n",
    "        self.df = df.copy()\n",
    "\n",
    "        self.bird2id = {bird: idx for idx, bird in enumerate(cfg.birds)}\n",
    "        if self.mode == \"train\":\n",
    "            self.data_folder = cfg.train_data_folder\n",
    "            self.df = self.df[self.df[\"rating\"] >= self.cfg.min_rating]\n",
    "        elif self.mode == \"val\":\n",
    "            self.data_folder = cfg.val_data_folder\n",
    "        elif self.mode == \"test\":\n",
    "            self.data_folder = cfg.test_data_folder\n",
    "\n",
    "        self.fns = self.df[\"filename\"].unique()\n",
    "\n",
    "        self.df = self.setup_df()\n",
    "\n",
    "        self.aug_audio = cfg.train_aug\n",
    "\n",
    "    def setup_df(self):\n",
    "        df = self.df.copy()\n",
    "\n",
    "        if self.mode == \"train\":\n",
    "\n",
    "            df[\"weight\"] = np.clip(df[\"rating\"] / df[\"rating\"].max(), 0.1, 1.0)\n",
    "            df['target'] = df['primary_label'].apply(self.bird2id.get)\n",
    "            labels = np.eye(self.cfg.n_classes)[df[\"target\"].astype(int).values]\n",
    "            label2 = df[\"secondary_labels\"].apply(lambda x: self.secondary2target(x)).values\n",
    "            for i, t in enumerate(label2):\n",
    "                labels[i, t] = 1\n",
    "        else:\n",
    "            targets = df[\"birds\"].apply(lambda x: self.birds2target(x)).values\n",
    "            labels = np.zeros((df.shape[0], self.cfg.n_classes))\n",
    "            for i, t in enumerate(targets):\n",
    "                labels[i, t] = 1\n",
    "\n",
    "        df[[f\"t{i}\" for i in range(self.cfg.n_classes)]] = labels\n",
    "\n",
    "        if self.mode != \"train\":\n",
    "            df = df.groupby(\"filename\")\n",
    "\n",
    "        return df\n",
    "\n",
    "    def __getitem__(self, idx):\n",
    "\n",
    "        if self.mode == \"train\":\n",
    "            row = self.df.iloc[idx]\n",
    "            fn = row[\"filename\"]\n",
    "            label = row[[f\"t{i}\" for i in range(self.cfg.n_classes)]].values\n",
    "            weight = row[\"weight\"]\n",
    "            #fold = row[\"fold\"]\n",
    "            fold = -1\n",
    "\n",
    "            #wav_len = row[\"length\"]\n",
    "            parts = 1\n",
    "        else:\n",
    "            fn = self.fns[idx]\n",
    "            row = self.df.get_group(fn)\n",
    "            label = row[[f\"t{i}\" for i in range(self.cfg.n_classes)]].values\n",
    "            wav_len = None\n",
    "            parts = label.shape[0]\n",
    "            fold = -1\n",
    "            weight = 1\n",
    "\n",
    "        if self.mode == \"train\":\n",
    "            #wav_len_sec = wav_len / self.cfg.sample_rate\n",
    "            wav_len_sec = row['duration']\n",
    "            duration = self.cfg.wav_crop_len\n",
    "            max_offset = wav_len_sec - duration\n",
    "            max_offset = max(max_offset, 1)\n",
    "            offset = np.random.randint(max_offset)\n",
    "        else:\n",
    "            offset = 0.0\n",
    "            duration = None\n",
    "\n",
    "        wav = self.load_one(fn, offset, duration)\n",
    "\n",
    "        if wav.shape[0] < (self.cfg.wav_crop_len * self.cfg.sample_rate):\n",
    "            pad = self.cfg.wav_crop_len * self.cfg.sample_rate - wav.shape[0]\n",
    "            wav = np.pad(wav, (0, pad))\n",
    "\n",
    "        if self.mode == \"train\":\n",
    "            if self.aug_audio:\n",
    "                wav = self.aug_audio(samples=wav, sample_rate=self.cfg.sample_rate)\n",
    "        else:\n",
    "            if self.cfg.val_aug:\n",
    "                wav = self.cfg.val_aug(samples=wav, sample_rate=self.cfg.sample_rate)\n",
    "\n",
    "        wav_tensor = torch.tensor(wav)  # (n_samples)\n",
    "        if parts > 1:\n",
    "            n_samples = wav_tensor.shape[0]\n",
    "            wav_tensor = wav_tensor[: n_samples // parts * parts].reshape(\n",
    "                parts, n_samples // parts\n",
    "            )\n",
    "\n",
    "        feature_dict = {\n",
    "            \"input\": wav_tensor,\n",
    "            \"target\": torch.tensor(label.astype(np.float32)),\n",
    "            \"weight\": torch.tensor(weight),\n",
    "            \"fold\": torch.tensor(fold),\n",
    "        }\n",
    "        return feature_dict\n",
    "\n",
    "    def __len__(self):\n",
    "        if cfg.dev:\n",
    "            return 256\n",
    "        return len(self.fns)\n",
    "\n",
    "    def load_one(self, id_, offset, duration):\n",
    "        fp = self.data_folder + id_\n",
    "        try:\n",
    "            wav, sr = librosa.load(fp, sr=None, offset=offset, duration=duration)\n",
    "        except:\n",
    "            print(\"FAIL READING rec\", fp)\n",
    "\n",
    "        return wav\n",
    "\n",
    "    def birds2target(self, birds):\n",
    "        birds = birds.split()\n",
    "        target = [self.bird2id.get(item) for item in birds if not item == \"nocall\"]\n",
    "        return target\n",
    "\n",
    "    def secondary2target(self, secondary_label):\n",
    "        birds = ast.literal_eval(secondary_label)\n",
    "        target = [self.bird2id.get(item) for item in birds if not item == \"nocall\"]\n",
    "        return target\n"
   ]
  },
  {
   "cell_type": "markdown",
   "id": "8bf7a02c",
   "metadata": {
    "papermill": {
     "duration": 0.024078,
     "end_time": "2022-03-01T00:08:24.879423",
     "exception": false,
     "start_time": "2022-03-01T00:08:24.855345",
     "status": "completed"
    },
    "tags": []
   },
   "source": [
    "# Dataset related utils"
   ]
  },
  {
   "cell_type": "code",
   "execution_count": 5,
   "id": "9b4fdb4b",
   "metadata": {
    "execution": {
     "iopub.execute_input": "2022-03-01T00:08:24.938068Z",
     "iopub.status.busy": "2022-03-01T00:08:24.937143Z",
     "iopub.status.idle": "2022-03-01T00:08:24.938948Z",
     "shell.execute_reply": "2022-03-01T00:08:24.939338Z",
     "shell.execute_reply.started": "2022-02-28T05:53:12.846685Z"
    },
    "papermill": {
     "duration": 0.035795,
     "end_time": "2022-03-01T00:08:24.939474",
     "exception": false,
     "start_time": "2022-03-01T00:08:24.903679",
     "status": "completed"
    },
    "tags": []
   },
   "outputs": [],
   "source": [
    "def worker_init_fn(worker_id):\n",
    "    np.random.seed(np.random.get_state()[1][0] + worker_id)\n",
    "\n",
    "\n",
    "def get_train_dataloader(train_ds, cfg):\n",
    "    train_dataloader = DataLoader(\n",
    "        train_ds,\n",
    "        sampler=None,\n",
    "        shuffle=True,\n",
    "        batch_size=cfg.batch_size,\n",
    "        num_workers=cfg.num_workers,\n",
    "        pin_memory=False,\n",
    "        collate_fn=cfg.tr_collate_fn,\n",
    "        drop_last=cfg.drop_last,\n",
    "        worker_init_fn=worker_init_fn,\n",
    "    )\n",
    "    print(f\"train: dataset {len(train_ds)}, dataloader {len(train_dataloader)}\")\n",
    "    return train_dataloader\n",
    "\n",
    "\n",
    "def get_scheduler(cfg, optimizer, total_steps):\n",
    "    scheduler = get_cosine_schedule_with_warmup(\n",
    "        optimizer,\n",
    "        num_warmup_steps=cfg.warmup * (total_steps // cfg.batch_size),\n",
    "        num_training_steps=cfg.epochs * (total_steps // cfg.batch_size),\n",
    "    )\n",
    "    return scheduler\n",
    "\n",
    "\n",
    "def load_df(cfg):\n",
    "    train_df1 = pd.read_csv(cfg.train_df1)\n",
    "    train_df2 = pd.read_csv(cfg.train_df2)\n",
    "    train_df = pd.merge(train_df1[['primary_label', 'secondary_labels', 'rating', 'filename']], train_df2[['filename', 'duration']], how='inner', on='filename')\n",
    "    return train_df\n"
   ]
  },
  {
   "cell_type": "markdown",
   "id": "95f58bde",
   "metadata": {
    "papermill": {
     "duration": 0.024032,
     "end_time": "2022-03-01T00:08:24.987679",
     "exception": false,
     "start_time": "2022-03-01T00:08:24.963647",
     "status": "completed"
    },
    "tags": []
   },
   "source": [
    "# GeM and Mix-up"
   ]
  },
  {
   "cell_type": "code",
   "execution_count": 6,
   "id": "ad66275a",
   "metadata": {
    "execution": {
     "iopub.execute_input": "2022-03-01T00:08:25.051707Z",
     "iopub.status.busy": "2022-03-01T00:08:25.040955Z",
     "iopub.status.idle": "2022-03-01T00:08:25.054037Z",
     "shell.execute_reply": "2022-03-01T00:08:25.053622Z",
     "shell.execute_reply.started": "2022-02-28T05:53:12.858614Z"
    },
    "papermill": {
     "duration": 0.042004,
     "end_time": "2022-03-01T00:08:25.054183",
     "exception": false,
     "start_time": "2022-03-01T00:08:25.012179",
     "status": "completed"
    },
    "tags": []
   },
   "outputs": [],
   "source": [
    "def gem(x, p=3, eps=1e-6):\n",
    "    return F.avg_pool2d(x.clamp(min=eps).pow(p), (x.size(-2), x.size(-1))).pow(1.0 / p)\n",
    "\n",
    "\n",
    "class GeM(nn.Module):\n",
    "    # Generalized mean: https://arxiv.org/abs/1711.02512\n",
    "    def __init__(self, p=3, eps=1e-6):\n",
    "        super(GeM, self).__init__()\n",
    "        self.p = Parameter(torch.ones(1) * p)\n",
    "        self.eps = eps\n",
    "\n",
    "    def forward(self, x):\n",
    "        ret = gem(x, p=self.p, eps=self.eps)\n",
    "        return ret\n",
    "\n",
    "    def __repr__(self):\n",
    "        return (self.__class__.__name__+ \"(p=\"+ \"{:.4f}\".format(self.p.data.tolist()[0])+ \", eps=\"+ str(self.eps)+ \")\")\n",
    "\n",
    "\n",
    "class Mixup(nn.Module):\n",
    "    def __init__(self, mix_beta):\n",
    "\n",
    "        super(Mixup, self).__init__()\n",
    "        self.beta_distribution = Beta(mix_beta, mix_beta)\n",
    "\n",
    "    def forward(self, X, Y, weight=None):\n",
    "\n",
    "        bs = X.shape[0]\n",
    "        n_dims = len(X.shape)\n",
    "        perm = torch.randperm(bs)\n",
    "        coeffs = self.beta_distribution.rsample(torch.Size((bs,))).to(X.device)\n",
    "\n",
    "        if n_dims == 2:\n",
    "            X = coeffs.view(-1, 1) * X + (1 - coeffs.view(-1, 1)) * X[perm]\n",
    "        elif n_dims == 3:\n",
    "            X = coeffs.view(-1, 1, 1) * X + (1 - coeffs.view(-1, 1, 1)) * X[perm]\n",
    "        else:\n",
    "            X = coeffs.view(-1, 1, 1, 1) * X + (1 - coeffs.view(-1, 1, 1, 1)) * X[perm]\n",
    "\n",
    "        Y = coeffs.view(-1, 1) * Y + (1 - coeffs.view(-1, 1)) * Y[perm]\n",
    "\n",
    "        if weight is None:\n",
    "            return X, Y\n",
    "        else:\n",
    "            weight = coeffs.view(-1) * weight + (1 - coeffs.view(-1)) * weight[perm]\n",
    "            return X, Y, weight\n"
   ]
  },
  {
   "cell_type": "markdown",
   "id": "b43d3972",
   "metadata": {
    "papermill": {
     "duration": 0.024331,
     "end_time": "2022-03-01T00:08:25.102927",
     "exception": false,
     "start_time": "2022-03-01T00:08:25.078596",
     "status": "completed"
    },
    "tags": []
   },
   "source": [
    "# Model"
   ]
  },
  {
   "cell_type": "code",
   "execution_count": 7,
   "id": "53d18ca1",
   "metadata": {
    "_cell_guid": "b1076dfc-b9ad-4769-8c92-a6c4dae69d19",
    "_uuid": "8f2839f25d086af736a60e9eeb907d3b93b6e0e5",
    "execution": {
     "iopub.execute_input": "2022-03-01T00:08:25.174327Z",
     "iopub.status.busy": "2022-03-01T00:08:25.173422Z",
     "iopub.status.idle": "2022-03-01T00:08:25.175290Z",
     "shell.execute_reply": "2022-03-01T00:08:25.175797Z",
     "shell.execute_reply.started": "2022-02-28T05:53:12.877063Z"
    },
    "papermill": {
     "duration": 0.048037,
     "end_time": "2022-03-01T00:08:25.175937",
     "exception": false,
     "start_time": "2022-03-01T00:08:25.127900",
     "status": "completed"
    },
    "tags": []
   },
   "outputs": [],
   "source": [
    "class Net(nn.Module):\n",
    "    def __init__(self, cfg):\n",
    "        super(Net, self).__init__()\n",
    "\n",
    "        self.cfg = cfg\n",
    "\n",
    "        self.n_classes = cfg.n_classes\n",
    "\n",
    "        self.mel_spec = ta.transforms.MelSpectrogram(\n",
    "            sample_rate=cfg.sample_rate,\n",
    "            n_fft=cfg.window_size,\n",
    "            win_length=cfg.window_size,\n",
    "            hop_length=cfg.hop_size,\n",
    "            f_min=cfg.fmin,\n",
    "            f_max=cfg.fmax,\n",
    "            pad=0,\n",
    "            n_mels=cfg.mel_bins,\n",
    "            power=cfg.power,\n",
    "            normalized=False,\n",
    "        )\n",
    "\n",
    "        self.amplitude_to_db = ta.transforms.AmplitudeToDB(top_db=cfg.top_db)\n",
    "        self.wav2img = torch.nn.Sequential(self.mel_spec, self.amplitude_to_db)\n",
    "\n",
    "        self.backbone = timm.create_model(\n",
    "            cfg.backbone,\n",
    "            pretrained=cfg.pretrained,\n",
    "            num_classes=0,\n",
    "            global_pool=\"\",\n",
    "            in_chans=cfg.in_chans,\n",
    "        )\n",
    "\n",
    "        if \"efficientnet\" in cfg.backbone:\n",
    "            backbone_out = self.backbone.num_features\n",
    "        else:\n",
    "            backbone_out = self.backbone.feature_info[-1][\"num_chs\"]\n",
    "\n",
    "        self.global_pool = GeM()\n",
    "\n",
    "        self.head = nn.Linear(backbone_out, self.n_classes)\n",
    "\n",
    "        if cfg.pretrained_weights is not None:\n",
    "            sd = torch.load(cfg.pretrained_weights, map_location=\"cpu\")[\"model\"]\n",
    "            sd = {k.replace(\"module.\", \"\"): v for k, v in sd.items()}\n",
    "            self.load_state_dict(sd, strict=True)\n",
    "            print(\"weights loaded from\", cfg.pretrained_weights)\n",
    "        self.loss_fn = nn.BCEWithLogitsLoss(reduction=\"none\")\n",
    "\n",
    "        self.mixup = Mixup(mix_beta=cfg.mix_beta)\n",
    "\n",
    "        self.factor = int(cfg.wav_crop_len / 5.0)\n",
    "\n",
    "    def forward(self, batch):\n",
    "\n",
    "        if not self.training:\n",
    "            x = batch[\"input\"]\n",
    "            bs, parts, time = x.shape\n",
    "            x = x.reshape(parts, time)\n",
    "            y = batch[\"target\"]\n",
    "            y = y[0]\n",
    "        else:\n",
    "\n",
    "            x = batch[\"input\"]\n",
    "            y = batch[\"target\"]\n",
    "            bs, time = x.shape\n",
    "            x = x.reshape(bs * self.factor, time // self.factor)\n",
    "\n",
    "        with autocast(enabled=False):\n",
    "            x = self.wav2img(x)  # (bs, mel, time)\n",
    "            if self.cfg.mel_norm:\n",
    "                x = (x + 80) / 80\n",
    "\n",
    "        x = x.permute(0, 2, 1)\n",
    "        x = x[:, None, :, :]\n",
    "\n",
    "        weight = batch[\"weight\"]\n",
    "\n",
    "        if self.training:\n",
    "            b, c, t, f = x.shape\n",
    "            x = x.permute(0, 2, 1, 3)\n",
    "            x = x.reshape(b // self.factor, self.factor * t, c, f)\n",
    "\n",
    "            if self.cfg.mixup:\n",
    "                x, y, weight = self.mixup(x, y, weight)\n",
    "            if self.cfg.mixup2:\n",
    "                x, y, weight = self.mixup(x, y, weight)\n",
    "\n",
    "            x = x.reshape(b, t, c, f)\n",
    "            x = x.permute(0, 2, 1, 3)\n",
    "\n",
    "        x = self.backbone(x)\n",
    "\n",
    "        if self.training:\n",
    "            b, c, t, f = x.shape\n",
    "            x = x.permute(0, 2, 1, 3)\n",
    "            x = x.reshape(b // self.factor, self.factor * t, c, f)\n",
    "            x = x.permute(0, 2, 1, 3)\n",
    "        x = self.global_pool(x)\n",
    "        x = x[:, :, 0, 0]\n",
    "        logits = self.head(x)\n",
    "\n",
    "        loss = self.loss_fn(logits, y)\n",
    "        loss = (loss.mean(dim=1) * weight) / weight.sum()\n",
    "        loss = loss.sum()\n",
    "\n",
    "        return {\"loss\": loss, \"logits\": logits.sigmoid(), \"logits_raw\": logits, \"target\": y}\n"
   ]
  },
  {
   "cell_type": "code",
   "execution_count": 8,
   "id": "2c80f652",
   "metadata": {
    "execution": {
     "iopub.execute_input": "2022-03-01T00:08:25.228500Z",
     "iopub.status.busy": "2022-03-01T00:08:25.227661Z",
     "iopub.status.idle": "2022-03-01T00:08:25.233447Z",
     "shell.execute_reply": "2022-03-01T00:08:25.232899Z",
     "shell.execute_reply.started": "2022-02-28T05:53:12.902275Z"
    },
    "papermill": {
     "duration": 0.033205,
     "end_time": "2022-03-01T00:08:25.233563",
     "exception": false,
     "start_time": "2022-03-01T00:08:25.200358",
     "status": "completed"
    },
    "tags": []
   },
   "outputs": [],
   "source": [
    "def create_checkpoint(model, optimizer, epoch, scheduler=None, scaler=None):\n",
    "    checkpoint = {\n",
    "        \"model\": model.state_dict(),\n",
    "        \"optimizer\": optimizer.state_dict(),\n",
    "        \"epoch\": epoch,\n",
    "    }\n",
    "\n",
    "    if scheduler is not None:\n",
    "        checkpoint[\"scheduler\"] = scheduler.state_dict()\n",
    "\n",
    "    if scaler is not None:\n",
    "        checkpoint[\"scaler\"] = scaler.state_dict()\n",
    "    return checkpoint"
   ]
  },
  {
   "cell_type": "code",
   "execution_count": 12,
   "id": "50606552",
   "metadata": {
    "execution": {
     "iopub.execute_input": "2022-03-01T00:08:25.285804Z",
     "iopub.status.busy": "2022-03-01T00:08:25.284963Z",
     "iopub.status.idle": "2022-03-01T00:08:31.505585Z",
     "shell.execute_reply": "2022-03-01T00:08:31.505079Z",
     "shell.execute_reply.started": "2022-02-28T05:53:12.912585Z"
    },
    "papermill": {
     "duration": 6.247754,
     "end_time": "2022-03-01T00:08:31.505715",
     "exception": false,
     "start_time": "2022-03-01T00:08:25.257961",
     "status": "completed"
    },
    "tags": []
   },
   "outputs": [
    {
     "ename": "FileNotFoundError",
     "evalue": "[Errno 2] File ../input/birdclef-2022-df-train-with-durations/df-with-durations.csv does not exist: '../input/birdclef-2022-df-train-with-durations/df-with-durations.csv'",
     "output_type": "error",
     "traceback": [
      "\u001b[1;31m---------------------------------------------------------------------------\u001b[0m",
      "\u001b[1;31mFileNotFoundError\u001b[0m                         Traceback (most recent call last)",
      "\u001b[1;32m~\\AppData\\Local\\Temp/ipykernel_10712/2481976515.py\u001b[0m in \u001b[0;36m<module>\u001b[1;34m\u001b[0m\n\u001b[0;32m      5\u001b[0m \u001b[1;31m#val_dataset = CustomDataset(val_df, cfg, aug=cfg.val_aug, mode=\"val\")\u001b[0m\u001b[1;33m\u001b[0m\u001b[1;33m\u001b[0m\u001b[1;33m\u001b[0m\u001b[0m\n\u001b[0;32m      6\u001b[0m \u001b[1;33m\u001b[0m\u001b[0m\n\u001b[1;32m----> 7\u001b[1;33m \u001b[0mtrain_df\u001b[0m \u001b[1;33m=\u001b[0m \u001b[0mload_df\u001b[0m\u001b[1;33m(\u001b[0m\u001b[0mcfg\u001b[0m\u001b[1;33m)\u001b[0m\u001b[1;33m\u001b[0m\u001b[1;33m\u001b[0m\u001b[0m\n\u001b[0m\u001b[0;32m      8\u001b[0m \u001b[1;33m\u001b[0m\u001b[0m\n\u001b[0;32m      9\u001b[0m \u001b[0mtrain_dataset\u001b[0m \u001b[1;33m=\u001b[0m \u001b[0mCustomDataset\u001b[0m\u001b[1;33m(\u001b[0m\u001b[0mtrain_df\u001b[0m\u001b[1;33m,\u001b[0m \u001b[0mcfg\u001b[0m\u001b[1;33m,\u001b[0m \u001b[0maug\u001b[0m\u001b[1;33m=\u001b[0m\u001b[0mcfg\u001b[0m\u001b[1;33m.\u001b[0m\u001b[0mtrain_aug\u001b[0m\u001b[1;33m,\u001b[0m \u001b[0mmode\u001b[0m\u001b[1;33m=\u001b[0m\u001b[1;34m\"train\"\u001b[0m\u001b[1;33m)\u001b[0m\u001b[1;33m\u001b[0m\u001b[1;33m\u001b[0m\u001b[0m\n",
      "\u001b[1;32m~\\AppData\\Local\\Temp/ipykernel_10712/4066074983.py\u001b[0m in \u001b[0;36mload_df\u001b[1;34m(cfg)\u001b[0m\n\u001b[0;32m     30\u001b[0m \u001b[1;32mdef\u001b[0m \u001b[0mload_df\u001b[0m\u001b[1;33m(\u001b[0m\u001b[0mcfg\u001b[0m\u001b[1;33m)\u001b[0m\u001b[1;33m:\u001b[0m\u001b[1;33m\u001b[0m\u001b[1;33m\u001b[0m\u001b[0m\n\u001b[0;32m     31\u001b[0m     \u001b[0mtrain_df1\u001b[0m \u001b[1;33m=\u001b[0m \u001b[0mpd\u001b[0m\u001b[1;33m.\u001b[0m\u001b[0mread_csv\u001b[0m\u001b[1;33m(\u001b[0m\u001b[0mcfg\u001b[0m\u001b[1;33m.\u001b[0m\u001b[0mtrain_df1\u001b[0m\u001b[1;33m)\u001b[0m\u001b[1;33m\u001b[0m\u001b[1;33m\u001b[0m\u001b[0m\n\u001b[1;32m---> 32\u001b[1;33m     \u001b[0mtrain_df2\u001b[0m \u001b[1;33m=\u001b[0m \u001b[0mpd\u001b[0m\u001b[1;33m.\u001b[0m\u001b[0mread_csv\u001b[0m\u001b[1;33m(\u001b[0m\u001b[0mcfg\u001b[0m\u001b[1;33m.\u001b[0m\u001b[0mtrain_df2\u001b[0m\u001b[1;33m)\u001b[0m\u001b[1;33m\u001b[0m\u001b[1;33m\u001b[0m\u001b[0m\n\u001b[0m\u001b[0;32m     33\u001b[0m     \u001b[0mtrain_df\u001b[0m \u001b[1;33m=\u001b[0m \u001b[0mpd\u001b[0m\u001b[1;33m.\u001b[0m\u001b[0mmerge\u001b[0m\u001b[1;33m(\u001b[0m\u001b[0mtrain_df1\u001b[0m\u001b[1;33m[\u001b[0m\u001b[1;33m[\u001b[0m\u001b[1;34m'primary_label'\u001b[0m\u001b[1;33m,\u001b[0m \u001b[1;34m'secondary_labels'\u001b[0m\u001b[1;33m,\u001b[0m \u001b[1;34m'rating'\u001b[0m\u001b[1;33m,\u001b[0m \u001b[1;34m'filename'\u001b[0m\u001b[1;33m]\u001b[0m\u001b[1;33m]\u001b[0m\u001b[1;33m,\u001b[0m \u001b[0mtrain_df2\u001b[0m\u001b[1;33m[\u001b[0m\u001b[1;33m[\u001b[0m\u001b[1;34m'filename'\u001b[0m\u001b[1;33m,\u001b[0m \u001b[1;34m'duration'\u001b[0m\u001b[1;33m]\u001b[0m\u001b[1;33m]\u001b[0m\u001b[1;33m,\u001b[0m \u001b[0mhow\u001b[0m\u001b[1;33m=\u001b[0m\u001b[1;34m'inner'\u001b[0m\u001b[1;33m,\u001b[0m \u001b[0mon\u001b[0m\u001b[1;33m=\u001b[0m\u001b[1;34m'filename'\u001b[0m\u001b[1;33m)\u001b[0m\u001b[1;33m\u001b[0m\u001b[1;33m\u001b[0m\u001b[0m\n\u001b[0;32m     34\u001b[0m     \u001b[1;32mreturn\u001b[0m \u001b[0mtrain_df\u001b[0m\u001b[1;33m\u001b[0m\u001b[1;33m\u001b[0m\u001b[0m\n",
      "\u001b[1;32m~\\Anaconda3\\lib\\site-packages\\pandas\\io\\parsers.py\u001b[0m in \u001b[0;36mparser_f\u001b[1;34m(filepath_or_buffer, sep, delimiter, header, names, index_col, usecols, squeeze, prefix, mangle_dupe_cols, dtype, engine, converters, true_values, false_values, skipinitialspace, skiprows, skipfooter, nrows, na_values, keep_default_na, na_filter, verbose, skip_blank_lines, parse_dates, infer_datetime_format, keep_date_col, date_parser, dayfirst, cache_dates, iterator, chunksize, compression, thousands, decimal, lineterminator, quotechar, quoting, doublequote, escapechar, comment, encoding, dialect, error_bad_lines, warn_bad_lines, delim_whitespace, low_memory, memory_map, float_precision)\u001b[0m\n\u001b[0;32m    674\u001b[0m         )\n\u001b[0;32m    675\u001b[0m \u001b[1;33m\u001b[0m\u001b[0m\n\u001b[1;32m--> 676\u001b[1;33m         \u001b[1;32mreturn\u001b[0m \u001b[0m_read\u001b[0m\u001b[1;33m(\u001b[0m\u001b[0mfilepath_or_buffer\u001b[0m\u001b[1;33m,\u001b[0m \u001b[0mkwds\u001b[0m\u001b[1;33m)\u001b[0m\u001b[1;33m\u001b[0m\u001b[1;33m\u001b[0m\u001b[0m\n\u001b[0m\u001b[0;32m    677\u001b[0m \u001b[1;33m\u001b[0m\u001b[0m\n\u001b[0;32m    678\u001b[0m     \u001b[0mparser_f\u001b[0m\u001b[1;33m.\u001b[0m\u001b[0m__name__\u001b[0m \u001b[1;33m=\u001b[0m \u001b[0mname\u001b[0m\u001b[1;33m\u001b[0m\u001b[1;33m\u001b[0m\u001b[0m\n",
      "\u001b[1;32m~\\Anaconda3\\lib\\site-packages\\pandas\\io\\parsers.py\u001b[0m in \u001b[0;36m_read\u001b[1;34m(filepath_or_buffer, kwds)\u001b[0m\n\u001b[0;32m    446\u001b[0m \u001b[1;33m\u001b[0m\u001b[0m\n\u001b[0;32m    447\u001b[0m     \u001b[1;31m# Create the parser.\u001b[0m\u001b[1;33m\u001b[0m\u001b[1;33m\u001b[0m\u001b[1;33m\u001b[0m\u001b[0m\n\u001b[1;32m--> 448\u001b[1;33m     \u001b[0mparser\u001b[0m \u001b[1;33m=\u001b[0m \u001b[0mTextFileReader\u001b[0m\u001b[1;33m(\u001b[0m\u001b[0mfp_or_buf\u001b[0m\u001b[1;33m,\u001b[0m \u001b[1;33m**\u001b[0m\u001b[0mkwds\u001b[0m\u001b[1;33m)\u001b[0m\u001b[1;33m\u001b[0m\u001b[1;33m\u001b[0m\u001b[0m\n\u001b[0m\u001b[0;32m    449\u001b[0m \u001b[1;33m\u001b[0m\u001b[0m\n\u001b[0;32m    450\u001b[0m     \u001b[1;32mif\u001b[0m \u001b[0mchunksize\u001b[0m \u001b[1;32mor\u001b[0m \u001b[0miterator\u001b[0m\u001b[1;33m:\u001b[0m\u001b[1;33m\u001b[0m\u001b[1;33m\u001b[0m\u001b[0m\n",
      "\u001b[1;32m~\\Anaconda3\\lib\\site-packages\\pandas\\io\\parsers.py\u001b[0m in \u001b[0;36m__init__\u001b[1;34m(self, f, engine, **kwds)\u001b[0m\n\u001b[0;32m    878\u001b[0m             \u001b[0mself\u001b[0m\u001b[1;33m.\u001b[0m\u001b[0moptions\u001b[0m\u001b[1;33m[\u001b[0m\u001b[1;34m\"has_index_names\"\u001b[0m\u001b[1;33m]\u001b[0m \u001b[1;33m=\u001b[0m \u001b[0mkwds\u001b[0m\u001b[1;33m[\u001b[0m\u001b[1;34m\"has_index_names\"\u001b[0m\u001b[1;33m]\u001b[0m\u001b[1;33m\u001b[0m\u001b[1;33m\u001b[0m\u001b[0m\n\u001b[0;32m    879\u001b[0m \u001b[1;33m\u001b[0m\u001b[0m\n\u001b[1;32m--> 880\u001b[1;33m         \u001b[0mself\u001b[0m\u001b[1;33m.\u001b[0m\u001b[0m_make_engine\u001b[0m\u001b[1;33m(\u001b[0m\u001b[0mself\u001b[0m\u001b[1;33m.\u001b[0m\u001b[0mengine\u001b[0m\u001b[1;33m)\u001b[0m\u001b[1;33m\u001b[0m\u001b[1;33m\u001b[0m\u001b[0m\n\u001b[0m\u001b[0;32m    881\u001b[0m \u001b[1;33m\u001b[0m\u001b[0m\n\u001b[0;32m    882\u001b[0m     \u001b[1;32mdef\u001b[0m \u001b[0mclose\u001b[0m\u001b[1;33m(\u001b[0m\u001b[0mself\u001b[0m\u001b[1;33m)\u001b[0m\u001b[1;33m:\u001b[0m\u001b[1;33m\u001b[0m\u001b[1;33m\u001b[0m\u001b[0m\n",
      "\u001b[1;32m~\\Anaconda3\\lib\\site-packages\\pandas\\io\\parsers.py\u001b[0m in \u001b[0;36m_make_engine\u001b[1;34m(self, engine)\u001b[0m\n\u001b[0;32m   1112\u001b[0m     \u001b[1;32mdef\u001b[0m \u001b[0m_make_engine\u001b[0m\u001b[1;33m(\u001b[0m\u001b[0mself\u001b[0m\u001b[1;33m,\u001b[0m \u001b[0mengine\u001b[0m\u001b[1;33m=\u001b[0m\u001b[1;34m\"c\"\u001b[0m\u001b[1;33m)\u001b[0m\u001b[1;33m:\u001b[0m\u001b[1;33m\u001b[0m\u001b[1;33m\u001b[0m\u001b[0m\n\u001b[0;32m   1113\u001b[0m         \u001b[1;32mif\u001b[0m \u001b[0mengine\u001b[0m \u001b[1;33m==\u001b[0m \u001b[1;34m\"c\"\u001b[0m\u001b[1;33m:\u001b[0m\u001b[1;33m\u001b[0m\u001b[1;33m\u001b[0m\u001b[0m\n\u001b[1;32m-> 1114\u001b[1;33m             \u001b[0mself\u001b[0m\u001b[1;33m.\u001b[0m\u001b[0m_engine\u001b[0m \u001b[1;33m=\u001b[0m \u001b[0mCParserWrapper\u001b[0m\u001b[1;33m(\u001b[0m\u001b[0mself\u001b[0m\u001b[1;33m.\u001b[0m\u001b[0mf\u001b[0m\u001b[1;33m,\u001b[0m \u001b[1;33m**\u001b[0m\u001b[0mself\u001b[0m\u001b[1;33m.\u001b[0m\u001b[0moptions\u001b[0m\u001b[1;33m)\u001b[0m\u001b[1;33m\u001b[0m\u001b[1;33m\u001b[0m\u001b[0m\n\u001b[0m\u001b[0;32m   1115\u001b[0m         \u001b[1;32melse\u001b[0m\u001b[1;33m:\u001b[0m\u001b[1;33m\u001b[0m\u001b[1;33m\u001b[0m\u001b[0m\n\u001b[0;32m   1116\u001b[0m             \u001b[1;32mif\u001b[0m \u001b[0mengine\u001b[0m \u001b[1;33m==\u001b[0m \u001b[1;34m\"python\"\u001b[0m\u001b[1;33m:\u001b[0m\u001b[1;33m\u001b[0m\u001b[1;33m\u001b[0m\u001b[0m\n",
      "\u001b[1;32m~\\Anaconda3\\lib\\site-packages\\pandas\\io\\parsers.py\u001b[0m in \u001b[0;36m__init__\u001b[1;34m(self, src, **kwds)\u001b[0m\n\u001b[0;32m   1889\u001b[0m         \u001b[0mkwds\u001b[0m\u001b[1;33m[\u001b[0m\u001b[1;34m\"usecols\"\u001b[0m\u001b[1;33m]\u001b[0m \u001b[1;33m=\u001b[0m \u001b[0mself\u001b[0m\u001b[1;33m.\u001b[0m\u001b[0musecols\u001b[0m\u001b[1;33m\u001b[0m\u001b[1;33m\u001b[0m\u001b[0m\n\u001b[0;32m   1890\u001b[0m \u001b[1;33m\u001b[0m\u001b[0m\n\u001b[1;32m-> 1891\u001b[1;33m         \u001b[0mself\u001b[0m\u001b[1;33m.\u001b[0m\u001b[0m_reader\u001b[0m \u001b[1;33m=\u001b[0m \u001b[0mparsers\u001b[0m\u001b[1;33m.\u001b[0m\u001b[0mTextReader\u001b[0m\u001b[1;33m(\u001b[0m\u001b[0msrc\u001b[0m\u001b[1;33m,\u001b[0m \u001b[1;33m**\u001b[0m\u001b[0mkwds\u001b[0m\u001b[1;33m)\u001b[0m\u001b[1;33m\u001b[0m\u001b[1;33m\u001b[0m\u001b[0m\n\u001b[0m\u001b[0;32m   1892\u001b[0m         \u001b[0mself\u001b[0m\u001b[1;33m.\u001b[0m\u001b[0munnamed_cols\u001b[0m \u001b[1;33m=\u001b[0m \u001b[0mself\u001b[0m\u001b[1;33m.\u001b[0m\u001b[0m_reader\u001b[0m\u001b[1;33m.\u001b[0m\u001b[0munnamed_cols\u001b[0m\u001b[1;33m\u001b[0m\u001b[1;33m\u001b[0m\u001b[0m\n\u001b[0;32m   1893\u001b[0m \u001b[1;33m\u001b[0m\u001b[0m\n",
      "\u001b[1;32mpandas\\_libs\\parsers.pyx\u001b[0m in \u001b[0;36mpandas._libs.parsers.TextReader.__cinit__\u001b[1;34m()\u001b[0m\n",
      "\u001b[1;32mpandas\\_libs\\parsers.pyx\u001b[0m in \u001b[0;36mpandas._libs.parsers.TextReader._setup_parser_source\u001b[1;34m()\u001b[0m\n",
      "\u001b[1;31mFileNotFoundError\u001b[0m: [Errno 2] File ../input/birdclef-2022-df-train-with-durations/df-with-durations.csv does not exist: '../input/birdclef-2022-df-train-with-durations/df-with-durations.csv'"
     ]
    }
   ],
   "source": [
    "\n",
    "set_seed(cfg.seed)\n",
    "\n",
    "\n",
    "#val_df = pd.read_csv(cfg.val_df)\n",
    "#val_dataset = CustomDataset(val_df, cfg, aug=cfg.val_aug, mode=\"val\")\n",
    "\n",
    "train_df = load_df(cfg)\n",
    "\n",
    "train_dataset = CustomDataset(train_df, cfg, aug=cfg.train_aug, mode=\"train\")\n",
    "train_dataloader = get_train_dataloader(train_dataset, cfg)\n",
    "model = Net(cfg)\n",
    "\n",
    "model.to(cfg.device)\n",
    "\n",
    "total_steps = len(train_dataset)\n",
    "\n",
    "params = model.parameters()\n",
    "optimizer = optim.Adam(params, lr=cfg.lr, weight_decay=0)\n",
    "scheduler = get_scheduler(cfg, optimizer, total_steps)\n",
    "\n",
    "\n",
    "device = cfg.device"
   ]
  },
  {
   "cell_type": "code",
   "execution_count": 12,
   "id": "488490dc",
   "metadata": {
    "execution": {
     "iopub.execute_input": "2022-03-01T00:08:31.588294Z",
     "iopub.status.busy": "2022-03-01T00:08:31.561615Z",
     "iopub.status.idle": "2022-03-01T00:08:32.305007Z",
     "shell.execute_reply": "2022-03-01T00:08:32.304470Z",
     "shell.execute_reply.started": "2022-02-28T05:53:13.728112Z"
    },
    "papermill": {
     "duration": 0.773446,
     "end_time": "2022-03-01T00:08:32.305184",
     "exception": false,
     "start_time": "2022-03-01T00:08:31.531738",
     "status": "completed"
    },
    "tags": []
   },
   "outputs": [
    {
     "name": "stdout",
     "output_type": "stream",
     "text": [
      "total 85248\r\n",
      "-rw------- 1 root root 87290831 Mar  1 00:08 resnet34-43635321.pth\r\n"
     ]
    }
   ],
   "source": [
    "!ls -l /root/.cache/torch/hub/checkpoints/"
   ]
  },
  {
   "cell_type": "code",
   "execution_count": 13,
   "id": "d9d11331",
   "metadata": {
    "execution": {
     "iopub.execute_input": "2022-03-01T00:08:32.367746Z",
     "iopub.status.busy": "2022-03-01T00:08:32.366922Z",
     "iopub.status.idle": "2022-03-01T00:08:33.180686Z",
     "shell.execute_reply": "2022-03-01T00:08:33.179969Z",
     "shell.execute_reply.started": "2022-02-28T05:53:14.44441Z"
    },
    "papermill": {
     "duration": 0.84756,
     "end_time": "2022-03-01T00:08:33.180852",
     "exception": false,
     "start_time": "2022-03-01T00:08:32.333292",
     "status": "completed"
    },
    "tags": []
   },
   "outputs": [],
   "source": [
    "!cp /root/.cache/torch/hub/checkpoints/resnet34-43635321.pth ."
   ]
  },
  {
   "cell_type": "code",
   "execution_count": 14,
   "id": "d73e9bd1",
   "metadata": {
    "execution": {
     "iopub.execute_input": "2022-03-01T00:08:33.248801Z",
     "iopub.status.busy": "2022-03-01T00:08:33.241005Z",
     "iopub.status.idle": "2022-03-01T04:35:13.562188Z",
     "shell.execute_reply": "2022-03-01T04:35:13.561600Z"
    },
    "papermill": {
     "duration": 16000.353574,
     "end_time": "2022-03-01T04:35:13.562389",
     "exception": false,
     "start_time": "2022-03-01T00:08:33.208815",
     "status": "completed"
    },
    "tags": []
   },
   "outputs": [
    {
     "name": "stdout",
     "output_type": "stream",
     "text": [
      "EPOCH: 0\n"
     ]
    },
    {
     "name": "stderr",
     "output_type": "stream",
     "text": [
      "loss: 0.0371: 100%|██████████| 217/217 [13:34<00:00,  3.75s/it]\n"
     ]
    },
    {
     "name": "stdout",
     "output_type": "stream",
     "text": [
      "EPOCH: 1\n"
     ]
    },
    {
     "name": "stderr",
     "output_type": "stream",
     "text": [
      "loss: 0.0307: 100%|██████████| 217/217 [13:23<00:00,  3.70s/it]\n"
     ]
    },
    {
     "name": "stdout",
     "output_type": "stream",
     "text": [
      "EPOCH: 2\n"
     ]
    },
    {
     "name": "stderr",
     "output_type": "stream",
     "text": [
      "loss: 0.0289: 100%|██████████| 217/217 [12:59<00:00,  3.59s/it]\n"
     ]
    },
    {
     "name": "stdout",
     "output_type": "stream",
     "text": [
      "EPOCH: 3\n"
     ]
    },
    {
     "name": "stderr",
     "output_type": "stream",
     "text": [
      "loss: 0.0258: 100%|██████████| 217/217 [12:58<00:00,  3.59s/it]\n"
     ]
    },
    {
     "name": "stdout",
     "output_type": "stream",
     "text": [
      "EPOCH: 4\n"
     ]
    },
    {
     "name": "stderr",
     "output_type": "stream",
     "text": [
      "loss: 0.0237: 100%|██████████| 217/217 [13:14<00:00,  3.66s/it]\n"
     ]
    },
    {
     "name": "stdout",
     "output_type": "stream",
     "text": [
      "EPOCH: 5\n"
     ]
    },
    {
     "name": "stderr",
     "output_type": "stream",
     "text": [
      "loss: 0.0214: 100%|██████████| 217/217 [13:12<00:00,  3.65s/it]\n"
     ]
    },
    {
     "name": "stdout",
     "output_type": "stream",
     "text": [
      "EPOCH: 6\n"
     ]
    },
    {
     "name": "stderr",
     "output_type": "stream",
     "text": [
      "loss: 0.0205: 100%|██████████| 217/217 [13:20<00:00,  3.69s/it]\n"
     ]
    },
    {
     "name": "stdout",
     "output_type": "stream",
     "text": [
      "EPOCH: 7\n"
     ]
    },
    {
     "name": "stderr",
     "output_type": "stream",
     "text": [
      "loss: 0.0200: 100%|██████████| 217/217 [13:17<00:00,  3.68s/it]\n"
     ]
    },
    {
     "name": "stdout",
     "output_type": "stream",
     "text": [
      "EPOCH: 8\n"
     ]
    },
    {
     "name": "stderr",
     "output_type": "stream",
     "text": [
      "loss: 0.0192: 100%|██████████| 217/217 [13:24<00:00,  3.71s/it]\n"
     ]
    },
    {
     "name": "stdout",
     "output_type": "stream",
     "text": [
      "EPOCH: 9\n"
     ]
    },
    {
     "name": "stderr",
     "output_type": "stream",
     "text": [
      "loss: 0.0191: 100%|██████████| 217/217 [13:26<00:00,  3.72s/it]\n"
     ]
    },
    {
     "name": "stdout",
     "output_type": "stream",
     "text": [
      "EPOCH: 10\n"
     ]
    },
    {
     "name": "stderr",
     "output_type": "stream",
     "text": [
      "loss: 0.0182: 100%|██████████| 217/217 [13:16<00:00,  3.67s/it]\n"
     ]
    },
    {
     "name": "stdout",
     "output_type": "stream",
     "text": [
      "EPOCH: 11\n"
     ]
    },
    {
     "name": "stderr",
     "output_type": "stream",
     "text": [
      "loss: 0.0178: 100%|██████████| 217/217 [13:18<00:00,  3.68s/it]\n"
     ]
    },
    {
     "name": "stdout",
     "output_type": "stream",
     "text": [
      "EPOCH: 12\n"
     ]
    },
    {
     "name": "stderr",
     "output_type": "stream",
     "text": [
      "loss: 0.0174: 100%|██████████| 217/217 [13:22<00:00,  3.70s/it]\n"
     ]
    },
    {
     "name": "stdout",
     "output_type": "stream",
     "text": [
      "EPOCH: 13\n"
     ]
    },
    {
     "name": "stderr",
     "output_type": "stream",
     "text": [
      "loss: 0.0165: 100%|██████████| 217/217 [13:16<00:00,  3.67s/it]\n"
     ]
    },
    {
     "name": "stdout",
     "output_type": "stream",
     "text": [
      "EPOCH: 14\n"
     ]
    },
    {
     "name": "stderr",
     "output_type": "stream",
     "text": [
      "loss: 0.0168: 100%|██████████| 217/217 [13:18<00:00,  3.68s/it]\n"
     ]
    },
    {
     "name": "stdout",
     "output_type": "stream",
     "text": [
      "EPOCH: 15\n"
     ]
    },
    {
     "name": "stderr",
     "output_type": "stream",
     "text": [
      "loss: 0.0159: 100%|██████████| 217/217 [13:20<00:00,  3.69s/it]\n"
     ]
    },
    {
     "name": "stdout",
     "output_type": "stream",
     "text": [
      "EPOCH: 16\n"
     ]
    },
    {
     "name": "stderr",
     "output_type": "stream",
     "text": [
      "loss: 0.0156: 100%|██████████| 217/217 [13:20<00:00,  3.69s/it]\n"
     ]
    },
    {
     "name": "stdout",
     "output_type": "stream",
     "text": [
      "EPOCH: 17\n"
     ]
    },
    {
     "name": "stderr",
     "output_type": "stream",
     "text": [
      "loss: 0.0155: 100%|██████████| 217/217 [13:31<00:00,  3.74s/it]\n"
     ]
    },
    {
     "name": "stdout",
     "output_type": "stream",
     "text": [
      "EPOCH: 18\n"
     ]
    },
    {
     "name": "stderr",
     "output_type": "stream",
     "text": [
      "loss: 0.0170: 100%|██████████| 217/217 [13:30<00:00,  3.74s/it]\n"
     ]
    },
    {
     "name": "stdout",
     "output_type": "stream",
     "text": [
      "EPOCH: 19\n"
     ]
    },
    {
     "name": "stderr",
     "output_type": "stream",
     "text": [
      "loss: 0.0160: 100%|██████████| 217/217 [13:22<00:00,  3.70s/it]\n"
     ]
    }
   ],
   "source": [
    "try:\n",
    "    os.makedirs(cfg.output_dir)\n",
    "except:\n",
    "    pass\n",
    "\n",
    "if cfg.mixed_precision:\n",
    "    scaler = GradScaler()\n",
    "else:\n",
    "    scaler = None\n",
    "\n",
    "\n",
    "cfg.curr_step = 0\n",
    "i = 0\n",
    "best_val_loss = np.inf\n",
    "optimizer.zero_grad()\n",
    "for epoch in range(cfg.epochs):\n",
    "\n",
    "    set_seed(cfg.seed + epoch)\n",
    "\n",
    "    cfg.curr_epoch = epoch\n",
    "\n",
    "    print(\"EPOCH:\", epoch)\n",
    "\n",
    "    progress_bar = tqdm(range(len(train_dataloader)))\n",
    "    tr_it = iter(train_dataloader)\n",
    "\n",
    "    losses = []\n",
    "\n",
    "    gc.collect()\n",
    "\n",
    "    if cfg.train:\n",
    "        # ==== TRAIN LOOP\n",
    "        for itr in progress_bar:\n",
    "            i += 1\n",
    "\n",
    "            cfg.curr_step += cfg.batch_size\n",
    "\n",
    "            data = next(tr_it)\n",
    "\n",
    "            model.train()\n",
    "            torch.set_grad_enabled(True)\n",
    "\n",
    "            batch = batch_to_device(data, device)\n",
    "\n",
    "            if cfg.mixed_precision:\n",
    "                with autocast():\n",
    "                    output_dict = model(batch)\n",
    "            else:\n",
    "                output_dict = model(batch)\n",
    "\n",
    "            loss = output_dict[\"loss\"]\n",
    "\n",
    "            losses.append(loss.item())\n",
    "\n",
    "            if cfg.mixed_precision:\n",
    "                scaler.scale(loss).backward()\n",
    "                scaler.step(optimizer)\n",
    "                scaler.update()\n",
    "                optimizer.zero_grad()\n",
    "            else:\n",
    "                loss.backward()\n",
    "                optimizer.step()\n",
    "                optimizer.zero_grad()\n",
    "\n",
    "            if scheduler is not None:\n",
    "                scheduler.step()\n",
    "\n",
    "            if cfg.curr_step % cfg.batch_size == 0:\n",
    "                progress_bar.set_description(f\"loss: {np.mean(losses[-10:]):.4f}\")\n",
    "\n",
    "    if cfg.val:\n",
    "        if (epoch + 1) % cfg.eval_epochs == 0 or (epoch + 1) == cfg.epochs:\n",
    "            val_loss = run_eval(model, val_dataloader, cfg)\n",
    "        else:\n",
    "            val_score = 0\n",
    "\n",
    "    if cfg.epochs > 0:\n",
    "        checkpoint = create_checkpoint(\n",
    "            model, optimizer, epoch, scheduler=scheduler, scaler=scaler\n",
    "        )\n",
    "\n",
    "        torch.save(checkpoint, f\"{cfg.output_dir}/checkpoint_last_seed{cfg.seed}_{epoch}.pth\")\n",
    "\n",
    "if cfg.epochs > 0:\n",
    "    checkpoint = create_checkpoint(model, optimizer, epoch, scheduler=scheduler, scaler=scaler)\n",
    "\n",
    "    torch.save(checkpoint, f\"{cfg.output_dir}/checkpoint_last_seed{cfg.seed}.pth\")"
   ]
  },
  {
   "cell_type": "code",
   "execution_count": null,
   "id": "7c0db338",
   "metadata": {
    "papermill": {
     "duration": 3.356021,
     "end_time": "2022-03-01T04:35:19.923103",
     "exception": false,
     "start_time": "2022-03-01T04:35:16.567082",
     "status": "completed"
    },
    "tags": []
   },
   "outputs": [],
   "source": []
  }
 ],
 "metadata": {
  "kernelspec": {
   "display_name": "Python 3",
   "language": "python",
   "name": "python3"
  },
  "language_info": {
   "codemirror_mode": {
    "name": "ipython",
    "version": 3
   },
   "file_extension": ".py",
   "mimetype": "text/x-python",
   "name": "python",
   "nbconvert_exporter": "python",
   "pygments_lexer": "ipython3",
   "version": "3.7.7"
  },
  "papermill": {
   "default_parameters": {},
   "duration": 16092.158528,
   "end_time": "2022-03-01T04:35:26.245857",
   "environment_variables": {},
   "exception": null,
   "input_path": "__notebook__.ipynb",
   "output_path": "__notebook__.ipynb",
   "parameters": {},
   "start_time": "2022-03-01T00:07:14.087329",
   "version": "2.3.3"
  }
 },
 "nbformat": 4,
 "nbformat_minor": 5
}
